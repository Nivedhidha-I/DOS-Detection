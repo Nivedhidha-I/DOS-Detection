{
 "cells": [
  {
   "cell_type": "markdown",
   "metadata": {},
   "source": [
    "## Importing all the required modules for the project."
   ]
  },
  {
   "cell_type": "code",
   "execution_count": 14,
   "metadata": {},
   "outputs": [],
   "source": [
    "import pandas as pd\n",
    "\n",
    "from sklearn.preprocessing import MinMaxScaler, LabelEncoder\n",
    "\n",
    "import matplotlib.pyplot as plt\n",
    "\n",
    "from sklearn.feature_selection import SelectKBest\n",
    "from sklearn.feature_selection import chi2\n",
    "import numpy as np\n",
    "from sklearn.ensemble import RandomForestClassifier\n",
    "\n",
    "from sklearn.model_selection import train_test_split\n",
    "\n",
    "from sklearn.tree import DecisionTreeClassifier\n",
    "from sklearn.model_selection import GridSearchCV\n",
    "from sklearn.svm import SVC\n",
    "\n",
    "from sklearn.metrics import roc_auc_score, accuracy_score, f1_score, confusion_matrix\n",
    "from tabulate import tabulate"
   ]
  },
  {
   "cell_type": "markdown",
   "metadata": {},
   "source": [
    "## Importing the dataset."
   ]
  },
  {
   "cell_type": "code",
   "execution_count": 15,
   "metadata": {},
   "outputs": [
    {
     "data": {
      "text/html": [
       "<div>\n",
       "<style scoped>\n",
       "    .dataframe tbody tr th:only-of-type {\n",
       "        vertical-align: middle;\n",
       "    }\n",
       "\n",
       "    .dataframe tbody tr th {\n",
       "        vertical-align: top;\n",
       "    }\n",
       "\n",
       "    .dataframe thead th {\n",
       "        text-align: right;\n",
       "    }\n",
       "</style>\n",
       "<table border=\"1\" class=\"dataframe\">\n",
       "  <thead>\n",
       "    <tr style=\"text-align: right;\">\n",
       "      <th></th>\n",
       "      <th>tcp.flags</th>\n",
       "      <th>tcp.time_delta</th>\n",
       "      <th>tcp.len</th>\n",
       "      <th>mqtt.conack.flags</th>\n",
       "      <th>mqtt.conack.flags.reserved</th>\n",
       "      <th>mqtt.conack.flags.sp</th>\n",
       "      <th>mqtt.conack.val</th>\n",
       "      <th>mqtt.conflag.cleansess</th>\n",
       "      <th>mqtt.conflag.passwd</th>\n",
       "      <th>mqtt.conflag.qos</th>\n",
       "      <th>...</th>\n",
       "      <th>mqtt.qos</th>\n",
       "      <th>mqtt.retain</th>\n",
       "      <th>mqtt.sub.qos</th>\n",
       "      <th>mqtt.suback.qos</th>\n",
       "      <th>mqtt.ver</th>\n",
       "      <th>mqtt.willmsg</th>\n",
       "      <th>mqtt.willmsg_len</th>\n",
       "      <th>mqtt.willtopic</th>\n",
       "      <th>mqtt.willtopic_len</th>\n",
       "      <th>target</th>\n",
       "    </tr>\n",
       "  </thead>\n",
       "  <tbody>\n",
       "    <tr>\n",
       "      <th>0</th>\n",
       "      <td>0x00000010</td>\n",
       "      <td>0.000019</td>\n",
       "      <td>0</td>\n",
       "      <td>0</td>\n",
       "      <td>0.0</td>\n",
       "      <td>0.0</td>\n",
       "      <td>0.0</td>\n",
       "      <td>0.0</td>\n",
       "      <td>0.0</td>\n",
       "      <td>0.0</td>\n",
       "      <td>...</td>\n",
       "      <td>0.0</td>\n",
       "      <td>0.0</td>\n",
       "      <td>0.0</td>\n",
       "      <td>0.0</td>\n",
       "      <td>0.0</td>\n",
       "      <td>0.0</td>\n",
       "      <td>0.0</td>\n",
       "      <td>0.0</td>\n",
       "      <td>0.0</td>\n",
       "      <td>legitimate</td>\n",
       "    </tr>\n",
       "    <tr>\n",
       "      <th>1</th>\n",
       "      <td>0x00000018</td>\n",
       "      <td>0.000000</td>\n",
       "      <td>90</td>\n",
       "      <td>0</td>\n",
       "      <td>0.0</td>\n",
       "      <td>0.0</td>\n",
       "      <td>0.0</td>\n",
       "      <td>0.0</td>\n",
       "      <td>0.0</td>\n",
       "      <td>0.0</td>\n",
       "      <td>...</td>\n",
       "      <td>1.0</td>\n",
       "      <td>0.0</td>\n",
       "      <td>0.0</td>\n",
       "      <td>0.0</td>\n",
       "      <td>0.0</td>\n",
       "      <td>0.0</td>\n",
       "      <td>0.0</td>\n",
       "      <td>0.0</td>\n",
       "      <td>0.0</td>\n",
       "      <td>dos</td>\n",
       "    </tr>\n",
       "    <tr>\n",
       "      <th>2</th>\n",
       "      <td>0x00000018</td>\n",
       "      <td>0.000001</td>\n",
       "      <td>8</td>\n",
       "      <td>0</td>\n",
       "      <td>0.0</td>\n",
       "      <td>0.0</td>\n",
       "      <td>0.0</td>\n",
       "      <td>0.0</td>\n",
       "      <td>0.0</td>\n",
       "      <td>0.0</td>\n",
       "      <td>...</td>\n",
       "      <td>0.0</td>\n",
       "      <td>0.0</td>\n",
       "      <td>0.0</td>\n",
       "      <td>0.0</td>\n",
       "      <td>0.0</td>\n",
       "      <td>0.0</td>\n",
       "      <td>0.0</td>\n",
       "      <td>0.0</td>\n",
       "      <td>0.0</td>\n",
       "      <td>dos</td>\n",
       "    </tr>\n",
       "    <tr>\n",
       "      <th>3</th>\n",
       "      <td>0x00000018</td>\n",
       "      <td>0.000001</td>\n",
       "      <td>85</td>\n",
       "      <td>0</td>\n",
       "      <td>0.0</td>\n",
       "      <td>0.0</td>\n",
       "      <td>0.0</td>\n",
       "      <td>0.0</td>\n",
       "      <td>0.0</td>\n",
       "      <td>0.0</td>\n",
       "      <td>...</td>\n",
       "      <td>1.0</td>\n",
       "      <td>0.0</td>\n",
       "      <td>0.0</td>\n",
       "      <td>0.0</td>\n",
       "      <td>0.0</td>\n",
       "      <td>0.0</td>\n",
       "      <td>0.0</td>\n",
       "      <td>0.0</td>\n",
       "      <td>0.0</td>\n",
       "      <td>dos</td>\n",
       "    </tr>\n",
       "    <tr>\n",
       "      <th>4</th>\n",
       "      <td>0x00000010</td>\n",
       "      <td>0.000004</td>\n",
       "      <td>0</td>\n",
       "      <td>0</td>\n",
       "      <td>0.0</td>\n",
       "      <td>0.0</td>\n",
       "      <td>0.0</td>\n",
       "      <td>0.0</td>\n",
       "      <td>0.0</td>\n",
       "      <td>0.0</td>\n",
       "      <td>...</td>\n",
       "      <td>0.0</td>\n",
       "      <td>0.0</td>\n",
       "      <td>0.0</td>\n",
       "      <td>0.0</td>\n",
       "      <td>0.0</td>\n",
       "      <td>0.0</td>\n",
       "      <td>0.0</td>\n",
       "      <td>0.0</td>\n",
       "      <td>0.0</td>\n",
       "      <td>legitimate</td>\n",
       "    </tr>\n",
       "  </tbody>\n",
       "</table>\n",
       "<p>5 rows × 34 columns</p>\n",
       "</div>"
      ],
      "text/plain": [
       "    tcp.flags  tcp.time_delta  tcp.len mqtt.conack.flags  \\\n",
       "0  0x00000010        0.000019        0                 0   \n",
       "1  0x00000018        0.000000       90                 0   \n",
       "2  0x00000018        0.000001        8                 0   \n",
       "3  0x00000018        0.000001       85                 0   \n",
       "4  0x00000010        0.000004        0                 0   \n",
       "\n",
       "   mqtt.conack.flags.reserved  mqtt.conack.flags.sp  mqtt.conack.val  \\\n",
       "0                         0.0                   0.0              0.0   \n",
       "1                         0.0                   0.0              0.0   \n",
       "2                         0.0                   0.0              0.0   \n",
       "3                         0.0                   0.0              0.0   \n",
       "4                         0.0                   0.0              0.0   \n",
       "\n",
       "   mqtt.conflag.cleansess  mqtt.conflag.passwd  mqtt.conflag.qos  ...  \\\n",
       "0                     0.0                  0.0               0.0  ...   \n",
       "1                     0.0                  0.0               0.0  ...   \n",
       "2                     0.0                  0.0               0.0  ...   \n",
       "3                     0.0                  0.0               0.0  ...   \n",
       "4                     0.0                  0.0               0.0  ...   \n",
       "\n",
       "   mqtt.qos  mqtt.retain  mqtt.sub.qos  mqtt.suback.qos mqtt.ver  \\\n",
       "0       0.0          0.0           0.0              0.0      0.0   \n",
       "1       1.0          0.0           0.0              0.0      0.0   \n",
       "2       0.0          0.0           0.0              0.0      0.0   \n",
       "3       1.0          0.0           0.0              0.0      0.0   \n",
       "4       0.0          0.0           0.0              0.0      0.0   \n",
       "\n",
       "   mqtt.willmsg mqtt.willmsg_len  mqtt.willtopic  mqtt.willtopic_len  \\\n",
       "0           0.0              0.0             0.0                 0.0   \n",
       "1           0.0              0.0             0.0                 0.0   \n",
       "2           0.0              0.0             0.0                 0.0   \n",
       "3           0.0              0.0             0.0                 0.0   \n",
       "4           0.0              0.0             0.0                 0.0   \n",
       "\n",
       "       target  \n",
       "0  legitimate  \n",
       "1         dos  \n",
       "2         dos  \n",
       "3         dos  \n",
       "4  legitimate  \n",
       "\n",
       "[5 rows x 34 columns]"
      ]
     },
     "execution_count": 15,
     "metadata": {},
     "output_type": "execute_result"
    }
   ],
   "source": [
    "df = pd.read_csv(\"mqttdataset_reduced.csv\")\n",
    "df.head()"
   ]
  },
  {
   "cell_type": "markdown",
   "metadata": {},
   "source": [
    "Removing unwanted rows as to focus only on the DoS attack related and legitimate data. "
   ]
  },
  {
   "cell_type": "code",
   "execution_count": 16,
   "metadata": {},
   "outputs": [
    {
     "data": {
      "text/plain": [
       "array(['legitimate', 'dos'], dtype=object)"
      ]
     },
     "execution_count": 16,
     "metadata": {},
     "output_type": "execute_result"
    }
   ],
   "source": [
    "df = df[(df[\"target\"] == \"legitimate\") | (df[\"target\"] == \"dos\")]\n",
    "df[\"target\"].unique()"
   ]
  },
  {
   "cell_type": "markdown",
   "metadata": {},
   "source": [
    "## Cleaning and Preprocessing the dataset."
   ]
  },
  {
   "cell_type": "code",
   "execution_count": 17,
   "metadata": {},
   "outputs": [
    {
     "data": {
      "text/plain": [
       "(295686, 34)"
      ]
     },
     "execution_count": 17,
     "metadata": {},
     "output_type": "execute_result"
    }
   ],
   "source": [
    "df.shape"
   ]
  },
  {
   "cell_type": "code",
   "execution_count": 18,
   "metadata": {},
   "outputs": [
    {
     "data": {
      "text/plain": [
       "tcp.flags                     False\n",
       "tcp.time_delta                False\n",
       "tcp.len                       False\n",
       "mqtt.conack.flags             False\n",
       "mqtt.conack.flags.reserved    False\n",
       "mqtt.conack.flags.sp          False\n",
       "mqtt.conack.val               False\n",
       "mqtt.conflag.cleansess        False\n",
       "mqtt.conflag.passwd           False\n",
       "mqtt.conflag.qos              False\n",
       "mqtt.conflag.reserved         False\n",
       "mqtt.conflag.retain           False\n",
       "mqtt.conflag.uname            False\n",
       "mqtt.conflag.willflag         False\n",
       "mqtt.conflags                 False\n",
       "mqtt.dupflag                  False\n",
       "mqtt.hdrflags                 False\n",
       "mqtt.kalive                   False\n",
       "mqtt.len                      False\n",
       "mqtt.msg                      False\n",
       "mqtt.msgid                    False\n",
       "mqtt.msgtype                  False\n",
       "mqtt.proto_len                False\n",
       "mqtt.protoname                False\n",
       "mqtt.qos                      False\n",
       "mqtt.retain                   False\n",
       "mqtt.sub.qos                  False\n",
       "mqtt.suback.qos               False\n",
       "mqtt.ver                      False\n",
       "mqtt.willmsg                  False\n",
       "mqtt.willmsg_len              False\n",
       "mqtt.willtopic                False\n",
       "mqtt.willtopic_len            False\n",
       "target                        False\n",
       "dtype: bool"
      ]
     },
     "execution_count": 18,
     "metadata": {},
     "output_type": "execute_result"
    }
   ],
   "source": [
    "df.isna().any()"
   ]
  },
  {
   "cell_type": "code",
   "execution_count": 19,
   "metadata": {},
   "outputs": [
    {
     "name": "stdout",
     "output_type": "stream",
     "text": [
      "<class 'pandas.core.frame.DataFrame'>\n",
      "Index: 295686 entries, 0 to 330925\n",
      "Data columns (total 34 columns):\n",
      " #   Column                      Non-Null Count   Dtype  \n",
      "---  ------                      --------------   -----  \n",
      " 0   tcp.flags                   295686 non-null  object \n",
      " 1   tcp.time_delta              295686 non-null  float64\n",
      " 2   tcp.len                     295686 non-null  int64  \n",
      " 3   mqtt.conack.flags           295686 non-null  object \n",
      " 4   mqtt.conack.flags.reserved  295686 non-null  float64\n",
      " 5   mqtt.conack.flags.sp        295686 non-null  float64\n",
      " 6   mqtt.conack.val             295686 non-null  float64\n",
      " 7   mqtt.conflag.cleansess      295686 non-null  float64\n",
      " 8   mqtt.conflag.passwd         295686 non-null  float64\n",
      " 9   mqtt.conflag.qos            295686 non-null  float64\n",
      " 10  mqtt.conflag.reserved       295686 non-null  float64\n",
      " 11  mqtt.conflag.retain         295686 non-null  float64\n",
      " 12  mqtt.conflag.uname          295686 non-null  float64\n",
      " 13  mqtt.conflag.willflag       295686 non-null  float64\n",
      " 14  mqtt.conflags               295686 non-null  object \n",
      " 15  mqtt.dupflag                295686 non-null  float64\n",
      " 16  mqtt.hdrflags               295686 non-null  object \n",
      " 17  mqtt.kalive                 295686 non-null  float64\n",
      " 18  mqtt.len                    295686 non-null  float64\n",
      " 19  mqtt.msg                    295686 non-null  object \n",
      " 20  mqtt.msgid                  295686 non-null  float64\n",
      " 21  mqtt.msgtype                295686 non-null  float64\n",
      " 22  mqtt.proto_len              295686 non-null  float64\n",
      " 23  mqtt.protoname              295686 non-null  object \n",
      " 24  mqtt.qos                    295686 non-null  float64\n",
      " 25  mqtt.retain                 295686 non-null  float64\n",
      " 26  mqtt.sub.qos                295686 non-null  float64\n",
      " 27  mqtt.suback.qos             295686 non-null  float64\n",
      " 28  mqtt.ver                    295686 non-null  float64\n",
      " 29  mqtt.willmsg                295686 non-null  float64\n",
      " 30  mqtt.willmsg_len            295686 non-null  float64\n",
      " 31  mqtt.willtopic              295686 non-null  float64\n",
      " 32  mqtt.willtopic_len          295686 non-null  float64\n",
      " 33  target                      295686 non-null  object \n",
      "dtypes: float64(26), int64(1), object(7)\n",
      "memory usage: 79.0+ MB\n"
     ]
    }
   ],
   "source": [
    "df.info()"
   ]
  },
  {
   "cell_type": "markdown",
   "metadata": {},
   "source": [
    "### Handling all numerical data"
   ]
  },
  {
   "cell_type": "code",
   "execution_count": 20,
   "metadata": {},
   "outputs": [
    {
     "data": {
      "text/html": [
       "<div>\n",
       "<style scoped>\n",
       "    .dataframe tbody tr th:only-of-type {\n",
       "        vertical-align: middle;\n",
       "    }\n",
       "\n",
       "    .dataframe tbody tr th {\n",
       "        vertical-align: top;\n",
       "    }\n",
       "\n",
       "    .dataframe thead th {\n",
       "        text-align: right;\n",
       "    }\n",
       "</style>\n",
       "<table border=\"1\" class=\"dataframe\">\n",
       "  <thead>\n",
       "    <tr style=\"text-align: right;\">\n",
       "      <th></th>\n",
       "      <th>tcp.flags</th>\n",
       "      <th>tcp.time_delta</th>\n",
       "      <th>tcp.len</th>\n",
       "      <th>mqtt.conack.flags</th>\n",
       "      <th>mqtt.conack.flags.reserved</th>\n",
       "      <th>mqtt.conack.flags.sp</th>\n",
       "      <th>mqtt.conack.val</th>\n",
       "      <th>mqtt.conflag.cleansess</th>\n",
       "      <th>mqtt.conflag.passwd</th>\n",
       "      <th>mqtt.conflag.qos</th>\n",
       "      <th>...</th>\n",
       "      <th>mqtt.qos</th>\n",
       "      <th>mqtt.retain</th>\n",
       "      <th>mqtt.sub.qos</th>\n",
       "      <th>mqtt.suback.qos</th>\n",
       "      <th>mqtt.ver</th>\n",
       "      <th>mqtt.willmsg</th>\n",
       "      <th>mqtt.willmsg_len</th>\n",
       "      <th>mqtt.willtopic</th>\n",
       "      <th>mqtt.willtopic_len</th>\n",
       "      <th>target</th>\n",
       "    </tr>\n",
       "  </thead>\n",
       "  <tbody>\n",
       "    <tr>\n",
       "      <th>0</th>\n",
       "      <td>0x00000010</td>\n",
       "      <td>3.166623e-07</td>\n",
       "      <td>0.000000</td>\n",
       "      <td>0</td>\n",
       "      <td>0.0</td>\n",
       "      <td>0.0</td>\n",
       "      <td>0.0</td>\n",
       "      <td>0.0</td>\n",
       "      <td>0.0</td>\n",
       "      <td>0.0</td>\n",
       "      <td>...</td>\n",
       "      <td>0.0</td>\n",
       "      <td>0.0</td>\n",
       "      <td>0.0</td>\n",
       "      <td>0.0</td>\n",
       "      <td>0.0</td>\n",
       "      <td>0.0</td>\n",
       "      <td>0.0</td>\n",
       "      <td>0.0</td>\n",
       "      <td>0.0</td>\n",
       "      <td>legitimate</td>\n",
       "    </tr>\n",
       "    <tr>\n",
       "      <th>1</th>\n",
       "      <td>0x00000018</td>\n",
       "      <td>0.000000e+00</td>\n",
       "      <td>0.061644</td>\n",
       "      <td>0</td>\n",
       "      <td>0.0</td>\n",
       "      <td>0.0</td>\n",
       "      <td>0.0</td>\n",
       "      <td>0.0</td>\n",
       "      <td>0.0</td>\n",
       "      <td>0.0</td>\n",
       "      <td>...</td>\n",
       "      <td>1.0</td>\n",
       "      <td>0.0</td>\n",
       "      <td>0.0</td>\n",
       "      <td>0.0</td>\n",
       "      <td>0.0</td>\n",
       "      <td>0.0</td>\n",
       "      <td>0.0</td>\n",
       "      <td>0.0</td>\n",
       "      <td>0.0</td>\n",
       "      <td>dos</td>\n",
       "    </tr>\n",
       "    <tr>\n",
       "      <th>2</th>\n",
       "      <td>0x00000018</td>\n",
       "      <td>1.666644e-08</td>\n",
       "      <td>0.005479</td>\n",
       "      <td>0</td>\n",
       "      <td>0.0</td>\n",
       "      <td>0.0</td>\n",
       "      <td>0.0</td>\n",
       "      <td>0.0</td>\n",
       "      <td>0.0</td>\n",
       "      <td>0.0</td>\n",
       "      <td>...</td>\n",
       "      <td>0.0</td>\n",
       "      <td>0.0</td>\n",
       "      <td>0.0</td>\n",
       "      <td>0.0</td>\n",
       "      <td>0.0</td>\n",
       "      <td>0.0</td>\n",
       "      <td>0.0</td>\n",
       "      <td>0.0</td>\n",
       "      <td>0.0</td>\n",
       "      <td>dos</td>\n",
       "    </tr>\n",
       "    <tr>\n",
       "      <th>3</th>\n",
       "      <td>0x00000018</td>\n",
       "      <td>1.666644e-08</td>\n",
       "      <td>0.058219</td>\n",
       "      <td>0</td>\n",
       "      <td>0.0</td>\n",
       "      <td>0.0</td>\n",
       "      <td>0.0</td>\n",
       "      <td>0.0</td>\n",
       "      <td>0.0</td>\n",
       "      <td>0.0</td>\n",
       "      <td>...</td>\n",
       "      <td>1.0</td>\n",
       "      <td>0.0</td>\n",
       "      <td>0.0</td>\n",
       "      <td>0.0</td>\n",
       "      <td>0.0</td>\n",
       "      <td>0.0</td>\n",
       "      <td>0.0</td>\n",
       "      <td>0.0</td>\n",
       "      <td>0.0</td>\n",
       "      <td>dos</td>\n",
       "    </tr>\n",
       "    <tr>\n",
       "      <th>4</th>\n",
       "      <td>0x00000010</td>\n",
       "      <td>6.666575e-08</td>\n",
       "      <td>0.000000</td>\n",
       "      <td>0</td>\n",
       "      <td>0.0</td>\n",
       "      <td>0.0</td>\n",
       "      <td>0.0</td>\n",
       "      <td>0.0</td>\n",
       "      <td>0.0</td>\n",
       "      <td>0.0</td>\n",
       "      <td>...</td>\n",
       "      <td>0.0</td>\n",
       "      <td>0.0</td>\n",
       "      <td>0.0</td>\n",
       "      <td>0.0</td>\n",
       "      <td>0.0</td>\n",
       "      <td>0.0</td>\n",
       "      <td>0.0</td>\n",
       "      <td>0.0</td>\n",
       "      <td>0.0</td>\n",
       "      <td>legitimate</td>\n",
       "    </tr>\n",
       "    <tr>\n",
       "      <th>...</th>\n",
       "      <td>...</td>\n",
       "      <td>...</td>\n",
       "      <td>...</td>\n",
       "      <td>...</td>\n",
       "      <td>...</td>\n",
       "      <td>...</td>\n",
       "      <td>...</td>\n",
       "      <td>...</td>\n",
       "      <td>...</td>\n",
       "      <td>...</td>\n",
       "      <td>...</td>\n",
       "      <td>...</td>\n",
       "      <td>...</td>\n",
       "      <td>...</td>\n",
       "      <td>...</td>\n",
       "      <td>...</td>\n",
       "      <td>...</td>\n",
       "      <td>...</td>\n",
       "      <td>...</td>\n",
       "      <td>...</td>\n",
       "      <td>...</td>\n",
       "    </tr>\n",
       "    <tr>\n",
       "      <th>330921</th>\n",
       "      <td>0x00000010</td>\n",
       "      <td>4.999931e-08</td>\n",
       "      <td>0.000000</td>\n",
       "      <td>0</td>\n",
       "      <td>0.0</td>\n",
       "      <td>0.0</td>\n",
       "      <td>0.0</td>\n",
       "      <td>0.0</td>\n",
       "      <td>0.0</td>\n",
       "      <td>0.0</td>\n",
       "      <td>...</td>\n",
       "      <td>0.0</td>\n",
       "      <td>0.0</td>\n",
       "      <td>0.0</td>\n",
       "      <td>0.0</td>\n",
       "      <td>0.0</td>\n",
       "      <td>0.0</td>\n",
       "      <td>0.0</td>\n",
       "      <td>0.0</td>\n",
       "      <td>0.0</td>\n",
       "      <td>legitimate</td>\n",
       "    </tr>\n",
       "    <tr>\n",
       "      <th>330922</th>\n",
       "      <td>0x00000010</td>\n",
       "      <td>1.221650e-05</td>\n",
       "      <td>1.000000</td>\n",
       "      <td>0</td>\n",
       "      <td>0.0</td>\n",
       "      <td>0.0</td>\n",
       "      <td>0.0</td>\n",
       "      <td>0.0</td>\n",
       "      <td>0.0</td>\n",
       "      <td>0.0</td>\n",
       "      <td>...</td>\n",
       "      <td>1.0</td>\n",
       "      <td>0.0</td>\n",
       "      <td>0.0</td>\n",
       "      <td>0.0</td>\n",
       "      <td>0.0</td>\n",
       "      <td>0.0</td>\n",
       "      <td>0.0</td>\n",
       "      <td>0.0</td>\n",
       "      <td>0.0</td>\n",
       "      <td>dos</td>\n",
       "    </tr>\n",
       "    <tr>\n",
       "      <th>330923</th>\n",
       "      <td>0x00000010</td>\n",
       "      <td>5.666589e-07</td>\n",
       "      <td>0.000000</td>\n",
       "      <td>0</td>\n",
       "      <td>0.0</td>\n",
       "      <td>0.0</td>\n",
       "      <td>0.0</td>\n",
       "      <td>0.0</td>\n",
       "      <td>0.0</td>\n",
       "      <td>0.0</td>\n",
       "      <td>...</td>\n",
       "      <td>0.0</td>\n",
       "      <td>0.0</td>\n",
       "      <td>0.0</td>\n",
       "      <td>0.0</td>\n",
       "      <td>0.0</td>\n",
       "      <td>0.0</td>\n",
       "      <td>0.0</td>\n",
       "      <td>0.0</td>\n",
       "      <td>0.0</td>\n",
       "      <td>dos</td>\n",
       "    </tr>\n",
       "    <tr>\n",
       "      <th>330924</th>\n",
       "      <td>0x00000010</td>\n",
       "      <td>1.133318e-06</td>\n",
       "      <td>1.000000</td>\n",
       "      <td>0</td>\n",
       "      <td>0.0</td>\n",
       "      <td>0.0</td>\n",
       "      <td>0.0</td>\n",
       "      <td>0.0</td>\n",
       "      <td>0.0</td>\n",
       "      <td>0.0</td>\n",
       "      <td>...</td>\n",
       "      <td>1.0</td>\n",
       "      <td>0.0</td>\n",
       "      <td>0.0</td>\n",
       "      <td>0.0</td>\n",
       "      <td>0.0</td>\n",
       "      <td>0.0</td>\n",
       "      <td>0.0</td>\n",
       "      <td>0.0</td>\n",
       "      <td>0.0</td>\n",
       "      <td>dos</td>\n",
       "    </tr>\n",
       "    <tr>\n",
       "      <th>330925</th>\n",
       "      <td>0x00000018</td>\n",
       "      <td>1.666507e-02</td>\n",
       "      <td>0.006849</td>\n",
       "      <td>0</td>\n",
       "      <td>0.0</td>\n",
       "      <td>0.0</td>\n",
       "      <td>0.0</td>\n",
       "      <td>0.0</td>\n",
       "      <td>0.0</td>\n",
       "      <td>0.0</td>\n",
       "      <td>...</td>\n",
       "      <td>0.0</td>\n",
       "      <td>0.0</td>\n",
       "      <td>0.0</td>\n",
       "      <td>0.0</td>\n",
       "      <td>0.0</td>\n",
       "      <td>0.0</td>\n",
       "      <td>0.0</td>\n",
       "      <td>0.0</td>\n",
       "      <td>0.0</td>\n",
       "      <td>legitimate</td>\n",
       "    </tr>\n",
       "  </tbody>\n",
       "</table>\n",
       "<p>295686 rows × 34 columns</p>\n",
       "</div>"
      ],
      "text/plain": [
       "         tcp.flags  tcp.time_delta   tcp.len mqtt.conack.flags  \\\n",
       "0       0x00000010    3.166623e-07  0.000000                 0   \n",
       "1       0x00000018    0.000000e+00  0.061644                 0   \n",
       "2       0x00000018    1.666644e-08  0.005479                 0   \n",
       "3       0x00000018    1.666644e-08  0.058219                 0   \n",
       "4       0x00000010    6.666575e-08  0.000000                 0   \n",
       "...            ...             ...       ...               ...   \n",
       "330921  0x00000010    4.999931e-08  0.000000                 0   \n",
       "330922  0x00000010    1.221650e-05  1.000000                 0   \n",
       "330923  0x00000010    5.666589e-07  0.000000                 0   \n",
       "330924  0x00000010    1.133318e-06  1.000000                 0   \n",
       "330925  0x00000018    1.666507e-02  0.006849                 0   \n",
       "\n",
       "        mqtt.conack.flags.reserved  mqtt.conack.flags.sp  mqtt.conack.val  \\\n",
       "0                              0.0                   0.0              0.0   \n",
       "1                              0.0                   0.0              0.0   \n",
       "2                              0.0                   0.0              0.0   \n",
       "3                              0.0                   0.0              0.0   \n",
       "4                              0.0                   0.0              0.0   \n",
       "...                            ...                   ...              ...   \n",
       "330921                         0.0                   0.0              0.0   \n",
       "330922                         0.0                   0.0              0.0   \n",
       "330923                         0.0                   0.0              0.0   \n",
       "330924                         0.0                   0.0              0.0   \n",
       "330925                         0.0                   0.0              0.0   \n",
       "\n",
       "        mqtt.conflag.cleansess  mqtt.conflag.passwd  mqtt.conflag.qos  ...  \\\n",
       "0                          0.0                  0.0               0.0  ...   \n",
       "1                          0.0                  0.0               0.0  ...   \n",
       "2                          0.0                  0.0               0.0  ...   \n",
       "3                          0.0                  0.0               0.0  ...   \n",
       "4                          0.0                  0.0               0.0  ...   \n",
       "...                        ...                  ...               ...  ...   \n",
       "330921                     0.0                  0.0               0.0  ...   \n",
       "330922                     0.0                  0.0               0.0  ...   \n",
       "330923                     0.0                  0.0               0.0  ...   \n",
       "330924                     0.0                  0.0               0.0  ...   \n",
       "330925                     0.0                  0.0               0.0  ...   \n",
       "\n",
       "        mqtt.qos  mqtt.retain  mqtt.sub.qos  mqtt.suback.qos mqtt.ver  \\\n",
       "0            0.0          0.0           0.0              0.0      0.0   \n",
       "1            1.0          0.0           0.0              0.0      0.0   \n",
       "2            0.0          0.0           0.0              0.0      0.0   \n",
       "3            1.0          0.0           0.0              0.0      0.0   \n",
       "4            0.0          0.0           0.0              0.0      0.0   \n",
       "...          ...          ...           ...              ...      ...   \n",
       "330921       0.0          0.0           0.0              0.0      0.0   \n",
       "330922       1.0          0.0           0.0              0.0      0.0   \n",
       "330923       0.0          0.0           0.0              0.0      0.0   \n",
       "330924       1.0          0.0           0.0              0.0      0.0   \n",
       "330925       0.0          0.0           0.0              0.0      0.0   \n",
       "\n",
       "        mqtt.willmsg mqtt.willmsg_len  mqtt.willtopic  mqtt.willtopic_len  \\\n",
       "0                0.0              0.0             0.0                 0.0   \n",
       "1                0.0              0.0             0.0                 0.0   \n",
       "2                0.0              0.0             0.0                 0.0   \n",
       "3                0.0              0.0             0.0                 0.0   \n",
       "4                0.0              0.0             0.0                 0.0   \n",
       "...              ...              ...             ...                 ...   \n",
       "330921           0.0              0.0             0.0                 0.0   \n",
       "330922           0.0              0.0             0.0                 0.0   \n",
       "330923           0.0              0.0             0.0                 0.0   \n",
       "330924           0.0              0.0             0.0                 0.0   \n",
       "330925           0.0              0.0             0.0                 0.0   \n",
       "\n",
       "            target  \n",
       "0       legitimate  \n",
       "1              dos  \n",
       "2              dos  \n",
       "3              dos  \n",
       "4       legitimate  \n",
       "...            ...  \n",
       "330921  legitimate  \n",
       "330922         dos  \n",
       "330923         dos  \n",
       "330924         dos  \n",
       "330925  legitimate  \n",
       "\n",
       "[295686 rows x 34 columns]"
      ]
     },
     "execution_count": 20,
     "metadata": {},
     "output_type": "execute_result"
    }
   ],
   "source": [
    "scaler = MinMaxScaler(feature_range=(0, 1))\n",
    "\n",
    "numerical_features = df.columns[df.dtypes != 'object']\n",
    "if len(numerical_features) > 0:\n",
    "    df[numerical_features] = scaler.fit_transform(df[numerical_features])\n",
    "df"
   ]
  },
  {
   "cell_type": "markdown",
   "metadata": {},
   "source": [
    "### Handling the Categorical data"
   ]
  },
  {
   "cell_type": "code",
   "execution_count": 21,
   "metadata": {},
   "outputs": [],
   "source": [
    "label_encoder = LabelEncoder()"
   ]
  },
  {
   "cell_type": "code",
   "execution_count": 22,
   "metadata": {},
   "outputs": [
    {
     "name": "stdout",
     "output_type": "stream",
     "text": [
      "['0x00000010' '0x00000018' '0x00000011' '0x00000002' '0x00000012']\n",
      "[1 4 2 0 3]\n"
     ]
    }
   ],
   "source": [
    "print(df[\"tcp.flags\"].unique())\n",
    "df['tcp.flags'] = label_encoder.fit_transform(df['tcp.flags'])\n",
    "print(df['tcp.flags'].unique())"
   ]
  },
  {
   "cell_type": "code",
   "execution_count": 23,
   "metadata": {},
   "outputs": [
    {
     "data": {
      "text/plain": [
       "array([0, 1])"
      ]
     },
     "execution_count": 23,
     "metadata": {},
     "output_type": "execute_result"
    }
   ],
   "source": [
    "df['mqtt.conack.flags'] = label_encoder.fit_transform(df['mqtt.conack.flags'])\n",
    "df['mqtt.conack.flags'].unique()"
   ]
  },
  {
   "cell_type": "code",
   "execution_count": 24,
   "metadata": {},
   "outputs": [
    {
     "data": {
      "text/plain": [
       "array([0, 1])"
      ]
     },
     "execution_count": 24,
     "metadata": {},
     "output_type": "execute_result"
    }
   ],
   "source": [
    "df['mqtt.conflags'] = label_encoder.fit_transform(df['mqtt.conflags'])\n",
    "df['mqtt.conflags'].unique()"
   ]
  },
  {
   "cell_type": "code",
   "execution_count": 25,
   "metadata": {},
   "outputs": [
    {
     "data": {
      "text/plain": [
       "array([0, 4, 6, 3, 7, 5, 8, 2, 9, 1])"
      ]
     },
     "execution_count": 25,
     "metadata": {},
     "output_type": "execute_result"
    }
   ],
   "source": [
    "df['mqtt.hdrflags'] = label_encoder.fit_transform(df['mqtt.hdrflags'])\n",
    "df['mqtt.hdrflags'].unique()"
   ]
  },
  {
   "cell_type": "code",
   "execution_count": 29,
   "metadata": {},
   "outputs": [
    {
     "name": "stdout",
     "output_type": "stream",
     "text": [
      "  (1, 20399)\t1.0\n",
      "  (3, 2500)\t1.0\n",
      "  (6, 24710)\t1.0\n",
      "  (7, 10685)\t1.0\n",
      "  (8, 19)\t1.0\n",
      "  (9, 19710)\t1.0\n",
      "  (11, 2327)\t1.0\n",
      "  (13, 7062)\t1.0\n",
      "  (17, 48155)\t1.0\n",
      "  (18, 2327)\t1.0\n",
      "  (19, 6991)\t1.0\n",
      "  (21, 19)\t1.0\n",
      "  (24, 42289)\t1.0\n",
      "  (26, 5602)\t1.0\n",
      "  (30, 32761)\t1.0\n",
      "  (33, 19)\t1.0\n",
      "  (34, 9691)\t1.0\n",
      "  (35, 2327)\t1.0\n",
      "  (37, 46475)\t1.0\n",
      "  (41, 19)\t1.0\n",
      "  (43, 32012)\t1.0\n",
      "  (44, 2327)\t1.0\n",
      "  (45, 21212)\t1.0\n",
      "  (47, 2327)\t1.0\n",
      "  (49, 2327)\t1.0\n",
      "  :\t:\n",
      "  (295639, 19)\t1.0\n",
      "  (295641, 19)\t1.0\n",
      "  (295642, 33380)\t1.0\n",
      "  (295647, 4659)\t1.0\n",
      "  (295648, 4659)\t1.0\n",
      "  (295651, 19818)\t1.0\n",
      "  (295652, 19)\t1.0\n",
      "  (295654, 2327)\t1.0\n",
      "  (295656, 6464)\t1.0\n",
      "  (295657, 18445)\t1.0\n",
      "  (295661, 2327)\t1.0\n",
      "  (295668, 19)\t1.0\n",
      "  (295669, 2327)\t1.0\n",
      "  (295671, 4659)\t1.0\n",
      "  (295672, 19)\t1.0\n",
      "  (295673, 39879)\t1.0\n",
      "  (295674, 9684)\t1.0\n",
      "  (295676, 2885)\t1.0\n",
      "  (295677, 4659)\t1.0\n",
      "  (295678, 2582)\t1.0\n",
      "  (295679, 292)\t1.0\n",
      "  (295680, 5214)\t1.0\n",
      "  (295682, 8645)\t1.0\n",
      "  (295684, 33411)\t1.0\n",
      "  (295685, 4659)\t1.0\n"
     ]
    },
    {
     "ename": "ValueError",
     "evalue": "blocks must be 2-D",
     "output_type": "error",
     "traceback": [
      "\u001b[1;31m---------------------------------------------------------------------------\u001b[0m",
      "\u001b[1;31mValueError\u001b[0m                                Traceback (most recent call last)",
      "Cell \u001b[1;32mIn[29], line 15\u001b[0m\n\u001b[0;32m     13\u001b[0m \u001b[38;5;28mprint\u001b[39m(encoded_msg)\n\u001b[0;32m     14\u001b[0m \u001b[38;5;66;03m# Use the encoded_msg in your model\u001b[39;00m\n\u001b[1;32m---> 15\u001b[0m combined_matrix \u001b[38;5;241m=\u001b[39m \u001b[43mhstack\u001b[49m\u001b[43m(\u001b[49m\u001b[43mencoded_msg\u001b[49m\u001b[43m)\u001b[49m\n\u001b[0;32m     16\u001b[0m df[\u001b[38;5;124m'\u001b[39m\u001b[38;5;124mmqtt.msg\u001b[39m\u001b[38;5;124m'\u001b[39m] \u001b[38;5;241m=\u001b[39m combined_matrix\n\u001b[0;32m     18\u001b[0m df[\u001b[38;5;124m'\u001b[39m\u001b[38;5;124mmqtt.msg\u001b[39m\u001b[38;5;124m'\u001b[39m]\n",
      "File \u001b[1;32mc:\\Users\\Nivedhidha\\AppData\\Local\\Programs\\Python\\Python311\\Lib\\site-packages\\scipy\\sparse\\_construct.py:733\u001b[0m, in \u001b[0;36mhstack\u001b[1;34m(blocks, format, dtype)\u001b[0m\n\u001b[0;32m    731\u001b[0m     \u001b[38;5;28;01mreturn\u001b[39;00m _block([blocks], \u001b[38;5;28mformat\u001b[39m, dtype)\n\u001b[0;32m    732\u001b[0m \u001b[38;5;28;01melse\u001b[39;00m:\n\u001b[1;32m--> 733\u001b[0m     \u001b[38;5;28;01mreturn\u001b[39;00m \u001b[43m_block\u001b[49m\u001b[43m(\u001b[49m\u001b[43m[\u001b[49m\u001b[43mblocks\u001b[49m\u001b[43m]\u001b[49m\u001b[43m,\u001b[49m\u001b[43m \u001b[49m\u001b[38;5;28;43mformat\u001b[39;49m\u001b[43m,\u001b[49m\u001b[43m \u001b[49m\u001b[43mdtype\u001b[49m\u001b[43m,\u001b[49m\u001b[43m \u001b[49m\u001b[43mreturn_spmatrix\u001b[49m\u001b[38;5;241;43m=\u001b[39;49m\u001b[38;5;28;43;01mTrue\u001b[39;49;00m\u001b[43m)\u001b[49m\n",
      "File \u001b[1;32mc:\\Users\\Nivedhidha\\AppData\\Local\\Programs\\Python\\Python311\\Lib\\site-packages\\scipy\\sparse\\_construct.py:898\u001b[0m, in \u001b[0;36m_block\u001b[1;34m(blocks, format, dtype, return_spmatrix)\u001b[0m\n\u001b[0;32m    895\u001b[0m blocks \u001b[38;5;241m=\u001b[39m np\u001b[38;5;241m.\u001b[39masarray(blocks, dtype\u001b[38;5;241m=\u001b[39m\u001b[38;5;124m'\u001b[39m\u001b[38;5;124mobject\u001b[39m\u001b[38;5;124m'\u001b[39m)\n\u001b[0;32m    897\u001b[0m \u001b[38;5;28;01mif\u001b[39;00m blocks\u001b[38;5;241m.\u001b[39mndim \u001b[38;5;241m!=\u001b[39m \u001b[38;5;241m2\u001b[39m:\n\u001b[1;32m--> 898\u001b[0m     \u001b[38;5;28;01mraise\u001b[39;00m \u001b[38;5;167;01mValueError\u001b[39;00m(\u001b[38;5;124m'\u001b[39m\u001b[38;5;124mblocks must be 2-D\u001b[39m\u001b[38;5;124m'\u001b[39m)\n\u001b[0;32m    900\u001b[0m M,N \u001b[38;5;241m=\u001b[39m blocks\u001b[38;5;241m.\u001b[39mshape\n\u001b[0;32m    902\u001b[0m \u001b[38;5;66;03m# check for fast path cases\u001b[39;00m\n",
      "\u001b[1;31mValueError\u001b[0m: blocks must be 2-D"
     ]
    }
   ],
   "source": [
    "df['mqtt.msg'] = df['mqtt.msg'].astype(str)\n",
    "\n",
    "from sklearn.feature_extraction.text import TfidfVectorizer\n",
    "from scipy.sparse import hstack\n",
    "# Create a TF-IDF vectorizer object\n",
    "vectorizer = TfidfVectorizer()\n",
    "\n",
    "# Transform the 'mqtt.msg' column\n",
    "encoded_msg = vectorizer.fit_transform(df['mqtt.msg'])\n",
    "if not all(matrix.shape == encoded_msg[0].shape for matrix in encoded_msg):\n",
    "    raise ValueError(\"Sparse matrices must have consistent dimensions.\")\n",
    "print(encoded_msg)\n",
    "# Use the encoded_msg in your model\n",
    "combined_matrix = hstack(encoded_msg)\n",
    "df['mqtt.msg'] = combined_matrix\n",
    "\n",
    "df['mqtt.msg']"
   ]
  },
  {
   "cell_type": "code",
   "execution_count": 32,
   "metadata": {},
   "outputs": [
    {
     "name": "stdout",
     "output_type": "stream",
     "text": [
      "  (1, 20399)\t1\n",
      "  (3, 2500)\t1\n",
      "  (6, 24710)\t1\n",
      "  (7, 10685)\t1\n",
      "  (8, 19)\t1\n",
      "  (9, 19710)\t1\n",
      "  (11, 2327)\t1\n",
      "  (13, 7062)\t1\n",
      "  (17, 48155)\t1\n",
      "  (18, 2327)\t1\n",
      "  (19, 6991)\t1\n",
      "  (21, 19)\t1\n",
      "  (24, 42289)\t1\n",
      "  (26, 5602)\t1\n",
      "  (30, 32761)\t1\n",
      "  (33, 19)\t1\n",
      "  (34, 9691)\t1\n",
      "  (35, 2327)\t1\n",
      "  (37, 46475)\t1\n",
      "  (41, 19)\t1\n",
      "  (43, 32012)\t1\n",
      "  (44, 2327)\t1\n",
      "  (45, 21212)\t1\n",
      "  (47, 2327)\t1\n",
      "  (49, 2327)\t1\n",
      "  :\t:\n",
      "  (295639, 19)\t1\n",
      "  (295641, 19)\t1\n",
      "  (295642, 33380)\t1\n",
      "  (295647, 4659)\t1\n",
      "  (295648, 4659)\t1\n",
      "  (295651, 19818)\t1\n",
      "  (295652, 19)\t1\n",
      "  (295654, 2327)\t1\n",
      "  (295656, 6464)\t1\n",
      "  (295657, 18445)\t1\n",
      "  (295661, 2327)\t1\n",
      "  (295668, 19)\t1\n",
      "  (295669, 2327)\t1\n",
      "  (295671, 4659)\t1\n",
      "  (295672, 19)\t1\n",
      "  (295673, 39879)\t1\n",
      "  (295674, 9684)\t1\n",
      "  (295676, 2885)\t1\n",
      "  (295677, 4659)\t1\n",
      "  (295678, 2582)\t1\n",
      "  (295679, 292)\t1\n",
      "  (295680, 5214)\t1\n",
      "  (295682, 8645)\t1\n",
      "  (295684, 33411)\t1\n",
      "  (295685, 4659)\t1\n"
     ]
    },
    {
     "ename": "ValueError",
     "evalue": "blocks must be 2-D",
     "output_type": "error",
     "traceback": [
      "\u001b[1;31m---------------------------------------------------------------------------\u001b[0m",
      "\u001b[1;31mValueError\u001b[0m                                Traceback (most recent call last)",
      "Cell \u001b[1;32mIn[32], line 24\u001b[0m\n\u001b[0;32m     22\u001b[0m \u001b[38;5;28mprint\u001b[39m(encoded_msg)\n\u001b[0;32m     23\u001b[0m \u001b[38;5;66;03m# Use the encoded_msg in your model\u001b[39;00m\n\u001b[1;32m---> 24\u001b[0m combined_matrix \u001b[38;5;241m=\u001b[39m \u001b[43mhstack\u001b[49m\u001b[43m(\u001b[49m\u001b[43mencoded_msg\u001b[49m\u001b[43m)\u001b[49m\n\u001b[0;32m     25\u001b[0m df[\u001b[38;5;124m'\u001b[39m\u001b[38;5;124mmqtt.msg\u001b[39m\u001b[38;5;124m'\u001b[39m] \u001b[38;5;241m=\u001b[39m combined_matrix\n\u001b[0;32m     27\u001b[0m df[\u001b[38;5;124m'\u001b[39m\u001b[38;5;124mmqtt.msg\u001b[39m\u001b[38;5;124m'\u001b[39m]\n",
      "File \u001b[1;32mc:\\Users\\Nivedhidha\\AppData\\Local\\Programs\\Python\\Python311\\Lib\\site-packages\\scipy\\sparse\\_construct.py:733\u001b[0m, in \u001b[0;36mhstack\u001b[1;34m(blocks, format, dtype)\u001b[0m\n\u001b[0;32m    731\u001b[0m     \u001b[38;5;28;01mreturn\u001b[39;00m _block([blocks], \u001b[38;5;28mformat\u001b[39m, dtype)\n\u001b[0;32m    732\u001b[0m \u001b[38;5;28;01melse\u001b[39;00m:\n\u001b[1;32m--> 733\u001b[0m     \u001b[38;5;28;01mreturn\u001b[39;00m \u001b[43m_block\u001b[49m\u001b[43m(\u001b[49m\u001b[43m[\u001b[49m\u001b[43mblocks\u001b[49m\u001b[43m]\u001b[49m\u001b[43m,\u001b[49m\u001b[43m \u001b[49m\u001b[38;5;28;43mformat\u001b[39;49m\u001b[43m,\u001b[49m\u001b[43m \u001b[49m\u001b[43mdtype\u001b[49m\u001b[43m,\u001b[49m\u001b[43m \u001b[49m\u001b[43mreturn_spmatrix\u001b[49m\u001b[38;5;241;43m=\u001b[39;49m\u001b[38;5;28;43;01mTrue\u001b[39;49;00m\u001b[43m)\u001b[49m\n",
      "File \u001b[1;32mc:\\Users\\Nivedhidha\\AppData\\Local\\Programs\\Python\\Python311\\Lib\\site-packages\\scipy\\sparse\\_construct.py:898\u001b[0m, in \u001b[0;36m_block\u001b[1;34m(blocks, format, dtype, return_spmatrix)\u001b[0m\n\u001b[0;32m    895\u001b[0m blocks \u001b[38;5;241m=\u001b[39m np\u001b[38;5;241m.\u001b[39masarray(blocks, dtype\u001b[38;5;241m=\u001b[39m\u001b[38;5;124m'\u001b[39m\u001b[38;5;124mobject\u001b[39m\u001b[38;5;124m'\u001b[39m)\n\u001b[0;32m    897\u001b[0m \u001b[38;5;28;01mif\u001b[39;00m blocks\u001b[38;5;241m.\u001b[39mndim \u001b[38;5;241m!=\u001b[39m \u001b[38;5;241m2\u001b[39m:\n\u001b[1;32m--> 898\u001b[0m     \u001b[38;5;28;01mraise\u001b[39;00m \u001b[38;5;167;01mValueError\u001b[39;00m(\u001b[38;5;124m'\u001b[39m\u001b[38;5;124mblocks must be 2-D\u001b[39m\u001b[38;5;124m'\u001b[39m)\n\u001b[0;32m    900\u001b[0m M,N \u001b[38;5;241m=\u001b[39m blocks\u001b[38;5;241m.\u001b[39mshape\n\u001b[0;32m    902\u001b[0m \u001b[38;5;66;03m# check for fast path cases\u001b[39;00m\n",
      "\u001b[1;31mValueError\u001b[0m: blocks must be 2-D"
     ]
    }
   ],
   "source": [
    "df['mqtt.msg'] = df['mqtt.msg'].astype(str)\n",
    "\n",
    "\n",
    "from sklearn.feature_extraction.text import CountVectorizer\n",
    "\n",
    "# Create a CountVectorizer object\n",
    "vectorizer = CountVectorizer()\n",
    "\n",
    "# Transform the 'mqtt.msg' column into a sparse matrix\n",
    "encoded_msg = vectorizer.fit_transform(df['mqtt.msg'])\n",
    "\n",
    "# Use the encoded_msg in your machine learning model\n",
    "\n",
    "encoded_msg\n",
    "\n",
    "from scipy.sparse import hstack\n",
    "\n",
    "# Transform the 'mqtt.msg' column\n",
    "encoded_msg = vectorizer.fit_transform(df['mqtt.msg'])\n",
    "if not all(matrix.shape == encoded_msg[0].shape for matrix in encoded_msg):\n",
    "    raise ValueError(\"Sparse matrices must have consistent dimensions.\")\n",
    "print(encoded_msg)\n",
    "# Use the encoded_msg in your model\n",
    "combined_matrix = hstack(encoded_msg)\n",
    "df['mqtt.msg'] = combined_matrix\n",
    "\n",
    "df['mqtt.msg']"
   ]
  },
  {
   "cell_type": "code",
   "execution_count": null,
   "metadata": {},
   "outputs": [],
   "source": [
    "df[\"msg_len\"] = [len(val) for val in df[\"mqtt.msg\"].to_list()]\n",
    "# df = df.drop('mqtt.msg', axis=1)\n",
    "df[\"msg_len\"].unique()"
   ]
  },
  {
   "cell_type": "code",
   "execution_count": null,
   "metadata": {},
   "outputs": [],
   "source": [
    "df['mqtt.protoname'] = label_encoder.fit_transform(df['mqtt.protoname'])\n",
    "df[\"mqtt.protoname\"].unique()"
   ]
  },
  {
   "cell_type": "code",
   "execution_count": null,
   "metadata": {},
   "outputs": [],
   "source": [
    "label_encoder.fit([\"legitimate\", \"dos\"])\n",
    "mapping = {\"legitimate\": 0, \"dos\": 1}\n",
    "df[\"target\"] = [mapping[label] for label in df[\"target\"].to_list()]\n",
    "df[\"target\"].unique()"
   ]
  },
  {
   "cell_type": "code",
   "execution_count": null,
   "metadata": {},
   "outputs": [],
   "source": [
    "df.info()"
   ]
  },
  {
   "cell_type": "markdown",
   "metadata": {},
   "source": [
    "## Analysing the dataset"
   ]
  },
  {
   "cell_type": "code",
   "execution_count": null,
   "metadata": {},
   "outputs": [],
   "source": [
    "target_x = df[\"target\"].unique()\n",
    "target_l = list(df[\"target\"])\n",
    "target_y = []\n",
    "for i in target_x:\n",
    "    target_y.append(round(target_l.count(i)*100/len(target_l), 2))\n",
    "plt.pie(target_y, labels=[\"Legitimate Traffic - \" + str(target_y[0]) + \"%\", \"DOS Traffic - \" + str(target_y[1]) + \"%\"])\n",
    "plt.show()"
   ]
  },
  {
   "cell_type": "markdown",
   "metadata": {},
   "source": [
    "We can see that the dataset is not balanced, hence we will be using the algorithms which are less affected by unbalanced datasets. \n",
    "* Decision Trees\n",
    "* Random Forests\n",
    "* Support Vector Machines (SVMs) "
   ]
  },
  {
   "cell_type": "code",
   "execution_count": null,
   "metadata": {},
   "outputs": [],
   "source": [
    "tcp_flag_x = list(df[\"tcp.flags\"].unique())\n",
    "\n",
    "tcp_flag_l_top = list(df[df[\"target\"]==1][\"tcp.flags\"])\n",
    "tcp_flag_y_top = []\n",
    "for i in tcp_flag_x:\n",
    "    tcp_flag_y_top.append(tcp_flag_l_top.count(i))\n",
    "\n",
    "tcp_flag_l_bottom = list(df[df[\"target\"]==0][\"tcp.flags\"])\n",
    "tcp_flag_y_bottom = []\n",
    "for i in tcp_flag_x:\n",
    "    tcp_flag_y_bottom.append(tcp_flag_l_bottom.count(i))\n",
    "\n",
    "plt.bar(tcp_flag_x, tcp_flag_y_bottom, label=\"Legitimate\")\n",
    "plt.bar(tcp_flag_x, tcp_flag_y_top, bottom=tcp_flag_y_bottom, label=\"DoS Attack\")\n",
    "\n",
    "plt.legend()\n",
    "plt.show()"
   ]
  },
  {
   "cell_type": "markdown",
   "metadata": {},
   "source": [
    "We can see in the graph that the majority of the flags are either SYN or RST flags.\n",
    "\n",
    "1 -> '0x00000010' [SYN (Synchronization) flag]\n",
    "\n",
    "4 -> '0x00000018' [Reset (RST) flag]\n",
    "\n",
    "2 -> '0x00000011' [Urgent (URG) and Acknowledgment (ACK) flag]\n",
    "\n",
    "0 -> '0x00000002' [Conditional Receive (CWR) flag]\n",
    "\n",
    "3 -> '0x00000012' [PUSH (PSH) flag]"
   ]
  },
  {
   "cell_type": "code",
   "execution_count": null,
   "metadata": {},
   "outputs": [],
   "source": [
    "qos_x = df[\"mqtt.qos\"].unique()\n",
    "qos_l = list(df[\"mqtt.qos\"])\n",
    "qos_y = []\n",
    "for i in qos_x:\n",
    "    qos_y.append(qos_l.count(i))\n",
    "plt.pie(qos_y, labels=[\"QOS Level: 0\", \"QOS Level: 1\"])\n",
    "plt.show()"
   ]
  },
  {
   "cell_type": "markdown",
   "metadata": {},
   "source": [
    "Majority of the packets have been sent using QOS 0."
   ]
  },
  {
   "cell_type": "markdown",
   "metadata": {},
   "source": [
    "## Feature Selection"
   ]
  },
  {
   "cell_type": "code",
   "execution_count": null,
   "metadata": {},
   "outputs": [],
   "source": [
    "x = df.drop('target', axis=1)\n",
    "x"
   ]
  },
  {
   "cell_type": "code",
   "execution_count": null,
   "metadata": {},
   "outputs": [],
   "source": [
    "y = df[\"target\"]\n",
    "y"
   ]
  },
  {
   "cell_type": "code",
   "execution_count": null,
   "metadata": {},
   "outputs": [],
   "source": [
    "selector = SelectKBest(chi2, k=20)\n",
    "X_reduced = selector.fit_transform(x, y)\n",
    "all_features = x.columns.tolist()\n",
    "select_x = [all_features[i] for i in selector.get_support(indices=True)]\n",
    "select_x"
   ]
  },
  {
   "cell_type": "code",
   "execution_count": null,
   "metadata": {},
   "outputs": [],
   "source": [
    "model = RandomForestClassifier(n_estimators=100)\n",
    "model.fit(x, y)\n",
    "\n",
    "feature_importances = model.feature_importances_\n",
    "\n",
    "top_k_features = np.argsort(feature_importances)[::-1][:20]\n",
    "\n",
    "random_x = []\n",
    "for i in top_k_features:\n",
    "    random_x.append(x.keys()[i])\n",
    "random_x = list(random_x)\n",
    "random_x"
   ]
  },
  {
   "cell_type": "code",
   "execution_count": null,
   "metadata": {},
   "outputs": [],
   "source": [
    "research_x = [\n",
    "    \"tcp.flags\", \n",
    "    \"tcp.time_delta\", \n",
    "    \"tcp.len\", \n",
    "    \"mqtt.conack.flags\", \n",
    "    \"mqtt.conflag\", \n",
    "    \"mqtt.dupflag\", \n",
    "    \"mqtt.hdrflags\", \n",
    "    \"mqtt.kalive\", \n",
    "    \"mqtt.len\", \n",
    "    \"msg_len\", \n",
    "    \"mqtt.qos\", \n",
    "    \"mqtt.sub.qos\", \n",
    "    \"mqtt.retain\", \n",
    "    \"mqtt.willmsg\", \n",
    "    \"mqtt.willtopic\"\n",
    "]"
   ]
  },
  {
   "cell_type": "code",
   "execution_count": null,
   "metadata": {},
   "outputs": [],
   "source": [
    "feature_names = list(set(random_x) & set(select_x) & set(research_x))\n",
    "feature_names"
   ]
  },
  {
   "cell_type": "code",
   "execution_count": null,
   "metadata": {},
   "outputs": [],
   "source": [
    "features = {}\n",
    "for i in feature_names:\n",
    "    features[i] = x[i]\n",
    "features = pd.DataFrame(features)\n",
    "features"
   ]
  },
  {
   "cell_type": "markdown",
   "metadata": {},
   "source": [
    "## Splitting of dataset."
   ]
  },
  {
   "cell_type": "code",
   "execution_count": null,
   "metadata": {},
   "outputs": [],
   "source": [
    "x_train, x_test, y_train, y_test = train_test_split(x, y, test_size=0.2)\n",
    "x_train, x_val, y_train, y_val = train_test_split(x_train, y_train, test_size=0.25)"
   ]
  },
  {
   "cell_type": "markdown",
   "metadata": {},
   "source": [
    "Splitted the dataset into train (60%), test (20%) and validation (20%). "
   ]
  },
  {
   "cell_type": "markdown",
   "metadata": {},
   "source": [
    "## Model Building"
   ]
  },
  {
   "cell_type": "markdown",
   "metadata": {},
   "source": [
    "As discussed before during analysis, we will focus on the algorithms - Decision Tree, Random Forest and SVM."
   ]
  },
  {
   "cell_type": "markdown",
   "metadata": {},
   "source": [
    "### Decision Tree"
   ]
  },
  {
   "cell_type": "markdown",
   "metadata": {},
   "source": [
    "Default Parameters"
   ]
  },
  {
   "cell_type": "code",
   "execution_count": null,
   "metadata": {},
   "outputs": [],
   "source": [
    "clf = DecisionTreeClassifier()\n",
    "clf.fit(x_train, y_train)"
   ]
  },
  {
   "cell_type": "code",
   "execution_count": null,
   "metadata": {},
   "outputs": [],
   "source": [
    "y_cal = clf.predict(x_val)\n",
    "\n",
    "print(\"Decision Tree - Trial 1\")\n",
    "print(\"-----------------------\\n\")\n",
    "\n",
    "auc_roc = round(roc_auc_score(y_val, y_cal)*100, 2)\n",
    "accuracy = round(accuracy_score(y_val, y_cal)*100, 2)\n",
    "f1 = round(f1_score(y_val, y_cal)*100, 2)\n",
    "cm = confusion_matrix(y_val, y_cal)\n",
    "\n",
    "print(\"AUC-ROC Score: \", auc_roc, \"%\", sep=\"\")\n",
    "print(\"Accuracy Score: \", accuracy, \"%\", sep=\"\")\n",
    "print(\"F1 Score: \", f1, \"%\", sep=\"\")\n",
    "print(\"Confusion Matrix:\\n\", tabulate(cm, tablefmt=\"grid\"), sep=\"\")"
   ]
  },
  {
   "cell_type": "markdown",
   "metadata": {},
   "source": [
    "Hypertuning Parameters"
   ]
  },
  {
   "cell_type": "markdown",
   "metadata": {},
   "source": [
    "criterion Parameter"
   ]
  },
  {
   "cell_type": "code",
   "execution_count": null,
   "metadata": {},
   "outputs": [],
   "source": [
    "param_grid = {\n",
    "    \"criterion\": [\"gini\", \"entropy\", \"log_loss\"] # default - \"gini\"\n",
    "}\n",
    "\n",
    "clf = GridSearchCV(DecisionTreeClassifier(), param_grid, cv=5)\n",
    "clf.fit(x_train, y_train)\n",
    "\n",
    "print(clf.best_params_)"
   ]
  },
  {
   "cell_type": "code",
   "execution_count": null,
   "metadata": {},
   "outputs": [],
   "source": [
    "y_cal = clf.predict(x_val)\n",
    "\n",
    "print(\"Decision Tree - Trial 2\")\n",
    "print(\"-----------------------\\n\")\n",
    "\n",
    "auc_roc = round(roc_auc_score(y_val, y_cal)*100, 2)\n",
    "accuracy = round(accuracy_score(y_val, y_cal)*100, 2)\n",
    "f1 = round(f1_score(y_val, y_cal)*100, 2)\n",
    "cm = confusion_matrix(y_val, y_cal)\n",
    "\n",
    "print(\"AUC-ROC Score: \", auc_roc, \"%\", sep=\"\")\n",
    "print(\"Accuracy Score: \", accuracy, \"%\", sep=\"\")\n",
    "print(\"F1 Score: \", f1, \"%\", sep=\"\")\n",
    "print(\"Confusion Matrix:\\n\", tabulate(cm, tablefmt=\"grid\"), sep=\"\")"
   ]
  },
  {
   "cell_type": "markdown",
   "metadata": {},
   "source": [
    "splitter Parameter"
   ]
  },
  {
   "cell_type": "code",
   "execution_count": null,
   "metadata": {},
   "outputs": [],
   "source": [
    "param_grid = {\n",
    "    \"splitter\": [\"best\", \"random\"] # default - \"best\"\n",
    "}\n",
    "\n",
    "clf = GridSearchCV(DecisionTreeClassifier(), param_grid, cv=5)\n",
    "clf.fit(x_train, y_train)\n",
    "\n",
    "print(clf.best_params_)"
   ]
  },
  {
   "cell_type": "code",
   "execution_count": null,
   "metadata": {},
   "outputs": [],
   "source": [
    "y_cal = clf.predict(x_val)\n",
    "\n",
    "print(\"Decision Tree - Trial 3\")\n",
    "print(\"-----------------------\\n\")\n",
    "\n",
    "auc_roc = round(roc_auc_score(y_val, y_cal)*100, 2)\n",
    "accuracy = round(accuracy_score(y_val, y_cal)*100, 2)\n",
    "f1 = round(f1_score(y_val, y_cal)*100, 2)\n",
    "cm = confusion_matrix(y_val, y_cal)\n",
    "\n",
    "print(\"AUC-ROC Score: \", auc_roc, \"%\", sep=\"\")\n",
    "print(\"Accuracy Score: \", accuracy, \"%\", sep=\"\")\n",
    "print(\"F1 Score: \", f1, \"%\", sep=\"\")\n",
    "print(\"Confusion Matrix:\\n\", tabulate(cm, tablefmt=\"grid\"), sep=\"\")"
   ]
  },
  {
   "cell_type": "markdown",
   "metadata": {},
   "source": [
    "max_features Parameter"
   ]
  },
  {
   "cell_type": "code",
   "execution_count": null,
   "metadata": {},
   "outputs": [],
   "source": [
    "param_grid = {\n",
    "    \"max_features\": [None, \"sqrt\", \"log2\"] # default - None\n",
    "}\n",
    "\n",
    "clf = GridSearchCV(DecisionTreeClassifier(), param_grid, cv=5)\n",
    "clf.fit(x_train, y_train)\n",
    "\n",
    "print(clf.best_params_)"
   ]
  },
  {
   "cell_type": "code",
   "execution_count": null,
   "metadata": {},
   "outputs": [],
   "source": [
    "y_cal = clf.predict(x_val)\n",
    "\n",
    "print(\"Decision Tree - Trial 4\")\n",
    "print(\"-----------------------\\n\")\n",
    "\n",
    "auc_roc = round(roc_auc_score(y_val, y_cal)*100, 2)\n",
    "accuracy = round(accuracy_score(y_val, y_cal)*100, 2)\n",
    "f1 = round(f1_score(y_val, y_cal)*100, 2)\n",
    "cm = confusion_matrix(y_val, y_cal)\n",
    "\n",
    "print(\"AUC-ROC Score: \", auc_roc, \"%\", sep=\"\")\n",
    "print(\"Accuracy Score: \", accuracy, \"%\", sep=\"\")\n",
    "print(\"F1 Score: \", f1, \"%\", sep=\"\")\n",
    "print(\"Confusion Matrix:\\n\", tabulate(cm, tablefmt=\"grid\"), sep=\"\")"
   ]
  },
  {
   "cell_type": "markdown",
   "metadata": {},
   "source": [
    "max_depth Parameter"
   ]
  },
  {
   "cell_type": "code",
   "execution_count": null,
   "metadata": {},
   "outputs": [],
   "source": [
    "param_grid = {\n",
    "    \"max_depth\": [3, 5, 8] # default - None\n",
    "}\n",
    "\n",
    "clf = GridSearchCV(DecisionTreeClassifier(), param_grid, cv=5)\n",
    "clf.fit(x_train, y_train)\n",
    "\n",
    "print(clf.best_params_)"
   ]
  },
  {
   "cell_type": "code",
   "execution_count": null,
   "metadata": {},
   "outputs": [],
   "source": [
    "y_cal = clf.predict(x_val)\n",
    "\n",
    "print(\"Decision Tree - Trial 5\")\n",
    "print(\"-----------------------\\n\")\n",
    "\n",
    "auc_roc = round(roc_auc_score(y_val, y_cal)*100, 2)\n",
    "accuracy = round(accuracy_score(y_val, y_cal)*100, 2)\n",
    "f1 = round(f1_score(y_val, y_cal)*100, 2)\n",
    "cm = confusion_matrix(y_val, y_cal)\n",
    "\n",
    "print(\"AUC-ROC Score: \", auc_roc, \"%\", sep=\"\")\n",
    "print(\"Accuracy Score: \", accuracy, \"%\", sep=\"\")\n",
    "print(\"F1 Score: \", f1, \"%\", sep=\"\")\n",
    "print(\"Confusion Matrix:\\n\", tabulate(cm, tablefmt=\"grid\"), sep=\"\")"
   ]
  },
  {
   "cell_type": "markdown",
   "metadata": {},
   "source": [
    "min_samples_split Parameter"
   ]
  },
  {
   "cell_type": "code",
   "execution_count": null,
   "metadata": {},
   "outputs": [],
   "source": [
    "param_grid = {\n",
    "    \"min_samples_split\": [2, 5, 10] # default - 2\n",
    "}\n",
    "\n",
    "clf = GridSearchCV(DecisionTreeClassifier(), param_grid, cv=5)\n",
    "clf.fit(x_train, y_train)\n",
    "\n",
    "print(clf.best_params_)"
   ]
  },
  {
   "cell_type": "code",
   "execution_count": null,
   "metadata": {},
   "outputs": [],
   "source": [
    "y_cal = clf.predict(x_val)\n",
    "\n",
    "print(\"Decision Tree - Trial 6\")\n",
    "print(\"-----------------------\\n\")\n",
    "\n",
    "auc_roc = round(roc_auc_score(y_val, y_cal)*100, 2)\n",
    "accuracy = round(accuracy_score(y_val, y_cal)*100, 2)\n",
    "f1 = round(f1_score(y_val, y_cal)*100, 2)\n",
    "cm = confusion_matrix(y_val, y_cal)\n",
    "\n",
    "print(\"AUC-ROC Score: \", auc_roc, \"%\", sep=\"\")\n",
    "print(\"Accuracy Score: \", accuracy, \"%\", sep=\"\")\n",
    "print(\"F1 Score: \", f1, \"%\", sep=\"\")\n",
    "print(\"Confusion Matrix:\\n\", tabulate(cm, tablefmt=\"grid\"), sep=\"\")"
   ]
  },
  {
   "cell_type": "markdown",
   "metadata": {},
   "source": [
    "min_samples_leaf Parameter"
   ]
  },
  {
   "cell_type": "code",
   "execution_count": null,
   "metadata": {},
   "outputs": [],
   "source": [
    "param_grid = {\n",
    "    \"min_samples_leaf\": [1, 2, 4] # default - 1\n",
    "}\n",
    "\n",
    "clf = GridSearchCV(DecisionTreeClassifier(), param_grid, cv=5)\n",
    "clf.fit(x_train, y_train)\n",
    "\n",
    "print(clf.best_params_)"
   ]
  },
  {
   "cell_type": "code",
   "execution_count": null,
   "metadata": {},
   "outputs": [],
   "source": [
    "y_cal = clf.predict(x_val)\n",
    "\n",
    "print(\"Decision Tree - Trial 7\")\n",
    "print(\"-----------------------\\n\")\n",
    "\n",
    "auc_roc = round(roc_auc_score(y_val, y_cal)*100, 2)\n",
    "accuracy = round(accuracy_score(y_val, y_cal)*100, 2)\n",
    "f1 = round(f1_score(y_val, y_cal)*100, 2)\n",
    "cm = confusion_matrix(y_val, y_cal)\n",
    "\n",
    "print(\"AUC-ROC Score: \", auc_roc, \"%\", sep=\"\")\n",
    "print(\"Accuracy Score: \", accuracy, \"%\", sep=\"\")\n",
    "print(\"F1 Score: \", f1, \"%\", sep=\"\")\n",
    "print(\"Confusion Matrix:\\n\", tabulate(cm, tablefmt=\"grid\"), sep=\"\")"
   ]
  },
  {
   "cell_type": "markdown",
   "metadata": {},
   "source": [
    "min_weight_fraction_leaf Parameter"
   ]
  },
  {
   "cell_type": "code",
   "execution_count": null,
   "metadata": {},
   "outputs": [],
   "source": [
    "param_grid = {\n",
    "    \"min_weight_fraction_leaf\": [0.0, 0.1, 0.2] # default - 0.0\n",
    "}\n",
    "\n",
    "clf = GridSearchCV(DecisionTreeClassifier(), param_grid, cv=5)\n",
    "clf.fit(x_train, y_train)\n",
    "\n",
    "print(clf.best_params_)"
   ]
  },
  {
   "cell_type": "code",
   "execution_count": null,
   "metadata": {},
   "outputs": [],
   "source": [
    "y_cal = clf.predict(x_val)\n",
    "\n",
    "print(\"Decision Tree - Trial 8\")\n",
    "print(\"-----------------------\\n\")\n",
    "\n",
    "auc_roc = round(roc_auc_score(y_val, y_cal)*100, 2)\n",
    "accuracy = round(accuracy_score(y_val, y_cal)*100, 2)\n",
    "f1 = round(f1_score(y_val, y_cal)*100, 2)\n",
    "cm = confusion_matrix(y_val, y_cal)\n",
    "\n",
    "print(\"AUC-ROC Score: \", auc_roc, \"%\", sep=\"\")\n",
    "print(\"Accuracy Score: \", accuracy, \"%\", sep=\"\")\n",
    "print(\"F1 Score: \", f1, \"%\", sep=\"\")\n",
    "print(\"Confusion Matrix:\\n\", tabulate(cm, tablefmt=\"grid\"), sep=\"\")"
   ]
  },
  {
   "cell_type": "markdown",
   "metadata": {},
   "source": [
    "random_state Parameter"
   ]
  },
  {
   "cell_type": "code",
   "execution_count": null,
   "metadata": {},
   "outputs": [],
   "source": [
    "param_grid = {\n",
    "    \"random_state\": [42, 100, None] # default - None\n",
    "}\n",
    "\n",
    "clf = GridSearchCV(DecisionTreeClassifier(), param_grid, cv=5)\n",
    "clf.fit(x_train, y_train)\n",
    "\n",
    "print(clf.best_params_)"
   ]
  },
  {
   "cell_type": "code",
   "execution_count": null,
   "metadata": {},
   "outputs": [],
   "source": [
    "y_cal = clf.predict(x_val)\n",
    "\n",
    "print(\"Decision Tree - Trial 9\")\n",
    "print(\"-----------------------\\n\")\n",
    "\n",
    "auc_roc = round(roc_auc_score(y_val, y_cal)*100, 2)\n",
    "accuracy = round(accuracy_score(y_val, y_cal)*100, 2)\n",
    "f1 = round(f1_score(y_val, y_cal)*100, 2)\n",
    "cm = confusion_matrix(y_val, y_cal)\n",
    "\n",
    "print(\"AUC-ROC Score: \", auc_roc, \"%\", sep=\"\")\n",
    "print(\"Accuracy Score: \", accuracy, \"%\", sep=\"\")\n",
    "print(\"F1 Score: \", f1, \"%\", sep=\"\")\n",
    "print(\"Confusion Matrix:\\n\", tabulate(cm, tablefmt=\"grid\"), sep=\"\")"
   ]
  },
  {
   "cell_type": "markdown",
   "metadata": {},
   "source": [
    "max_leaf_nodes Parameter"
   ]
  },
  {
   "cell_type": "code",
   "execution_count": null,
   "metadata": {},
   "outputs": [],
   "source": [
    "param_grid = {\n",
    "    \"max_leaf_nodes\": [None, 10, 30] # default - None\n",
    "}\n",
    "\n",
    "clf = GridSearchCV(DecisionTreeClassifier(), param_grid, cv=5)\n",
    "clf.fit(x_train, y_train)\n",
    "\n",
    "print(clf.best_params_)"
   ]
  },
  {
   "cell_type": "code",
   "execution_count": null,
   "metadata": {},
   "outputs": [],
   "source": [
    "y_cal = clf.predict(x_val)\n",
    "\n",
    "print(\"Decision Tree - Trial 10\")\n",
    "print(\"-----------------------\\n\")\n",
    "\n",
    "auc_roc = round(roc_auc_score(y_val, y_cal)*100, 2)\n",
    "accuracy = round(accuracy_score(y_val, y_cal)*100, 2)\n",
    "f1 = round(f1_score(y_val, y_cal)*100, 2)\n",
    "cm = confusion_matrix(y_val, y_cal)\n",
    "\n",
    "print(\"AUC-ROC Score: \", auc_roc, \"%\", sep=\"\")\n",
    "print(\"Accuracy Score: \", accuracy, \"%\", sep=\"\")\n",
    "print(\"F1 Score: \", f1, \"%\", sep=\"\")\n",
    "print(\"Confusion Matrix:\\n\", tabulate(cm, tablefmt=\"grid\"), sep=\"\")"
   ]
  },
  {
   "cell_type": "markdown",
   "metadata": {},
   "source": [
    "min_impurity_decrease Parameter"
   ]
  },
  {
   "cell_type": "code",
   "execution_count": null,
   "metadata": {},
   "outputs": [],
   "source": [
    "param_grid = {\n",
    "    \"min_impurity_decrease\": [0.0, 0.1, 0.2] # default - 0.0\n",
    "}\n",
    "\n",
    "clf = GridSearchCV(DecisionTreeClassifier(), param_grid, cv=5)\n",
    "clf.fit(x_train, y_train)\n",
    "\n",
    "print(clf.best_params_)"
   ]
  },
  {
   "cell_type": "code",
   "execution_count": null,
   "metadata": {},
   "outputs": [],
   "source": [
    "y_cal = clf.predict(x_val)\n",
    "\n",
    "print(\"Decision Tree - Trial 11\")\n",
    "print(\"-----------------------\\n\")\n",
    "\n",
    "auc_roc = round(roc_auc_score(y_val, y_cal)*100, 2)\n",
    "accuracy = round(accuracy_score(y_val, y_cal)*100, 2)\n",
    "f1 = round(f1_score(y_val, y_cal)*100, 2)\n",
    "cm = confusion_matrix(y_val, y_cal)\n",
    "\n",
    "print(\"AUC-ROC Score: \", auc_roc, \"%\", sep=\"\")\n",
    "print(\"Accuracy Score: \", accuracy, \"%\", sep=\"\")\n",
    "print(\"F1 Score: \", f1, \"%\", sep=\"\")\n",
    "print(\"Confusion Matrix:\\n\", tabulate(cm, tablefmt=\"grid\"), sep=\"\")"
   ]
  },
  {
   "cell_type": "markdown",
   "metadata": {},
   "source": [
    "class_weight Parameter"
   ]
  },
  {
   "cell_type": "code",
   "execution_count": null,
   "metadata": {},
   "outputs": [],
   "source": [
    "param_grid = {\n",
    "    \"class_weight\": [\"balanced\", None] # default - None\n",
    "}\n",
    "\n",
    "clf = GridSearchCV(DecisionTreeClassifier(), param_grid, cv=5)\n",
    "clf.fit(x_train, y_train)\n",
    "\n",
    "print(clf.best_params_)"
   ]
  },
  {
   "cell_type": "code",
   "execution_count": null,
   "metadata": {},
   "outputs": [],
   "source": [
    "y_cal = clf.predict(x_val)\n",
    "\n",
    "print(\"Decision Tree - Trial 12\")\n",
    "print(\"-----------------------\\n\")\n",
    "\n",
    "auc_roc = round(roc_auc_score(y_val, y_cal)*100, 2)\n",
    "accuracy = round(accuracy_score(y_val, y_cal)*100, 2)\n",
    "f1 = round(f1_score(y_val, y_cal)*100, 2)\n",
    "cm = confusion_matrix(y_val, y_cal)\n",
    "\n",
    "print(\"AUC-ROC Score: \", auc_roc, \"%\", sep=\"\")\n",
    "print(\"Accuracy Score: \", accuracy, \"%\", sep=\"\")\n",
    "print(\"F1 Score: \", f1, \"%\", sep=\"\")\n",
    "print(\"Confusion Matrix:\\n\", tabulate(cm, tablefmt=\"grid\"), sep=\"\")"
   ]
  },
  {
   "cell_type": "markdown",
   "metadata": {},
   "source": [
    "monotonic_cst Parameter"
   ]
  },
  {
   "cell_type": "code",
   "execution_count": null,
   "metadata": {},
   "outputs": [],
   "source": [
    "param_grid = {\n",
    "    \"monotonic_cst\": [0.0, 0.1, None] # default - None\n",
    "}\n",
    "\n",
    "clf = GridSearchCV(DecisionTreeClassifier(), param_grid, cv=5)\n",
    "clf.fit(x_train, y_train)\n",
    "\n",
    "print(clf.best_params_)"
   ]
  },
  {
   "cell_type": "code",
   "execution_count": null,
   "metadata": {},
   "outputs": [],
   "source": [
    "y_cal = clf.predict(x_val)\n",
    "\n",
    "print(\"Decision Tree - Trial 13\")\n",
    "print(\"-----------------------\\n\")\n",
    "\n",
    "auc_roc = round(roc_auc_score(y_val, y_cal)*100, 2)\n",
    "accuracy = round(accuracy_score(y_val, y_cal)*100, 2)\n",
    "f1 = round(f1_score(y_val, y_cal)*100, 2)\n",
    "cm = confusion_matrix(y_val, y_cal)\n",
    "\n",
    "print(\"AUC-ROC Score: \", auc_roc, \"%\", sep=\"\")\n",
    "print(\"Accuracy Score: \", accuracy, \"%\", sep=\"\")\n",
    "print(\"F1 Score: \", f1, \"%\", sep=\"\")\n",
    "print(\"Confusion Matrix:\\n\", tabulate(cm, tablefmt=\"grid\"), sep=\"\")"
   ]
  },
  {
   "cell_type": "markdown",
   "metadata": {},
   "source": [
    "ccp_alpha Parameter"
   ]
  },
  {
   "cell_type": "code",
   "execution_count": null,
   "metadata": {},
   "outputs": [],
   "source": [
    "param_grid = {\n",
    "    \"ccp_alpha\": [0.0, 0.1, None] # default - 0.0\n",
    "}\n",
    "\n",
    "clf = GridSearchCV(DecisionTreeClassifier(), param_grid, cv=5)\n",
    "clf.fit(x_train, y_train)\n",
    "\n",
    "print(clf.best_params_)"
   ]
  },
  {
   "cell_type": "code",
   "execution_count": null,
   "metadata": {},
   "outputs": [],
   "source": [
    "y_cal = clf.predict(x_val)\n",
    "\n",
    "print(\"Decision Tree - Trial 14\")\n",
    "print(\"-----------------------\\n\")\n",
    "\n",
    "auc_roc = round(roc_auc_score(y_val, y_cal)*100, 2)\n",
    "accuracy = round(accuracy_score(y_val, y_cal)*100, 2)\n",
    "f1 = round(f1_score(y_val, y_cal)*100, 2)\n",
    "cm = confusion_matrix(y_val, y_cal)\n",
    "\n",
    "print(\"AUC-ROC Score: \", auc_roc, \"%\", sep=\"\")\n",
    "print(\"Accuracy Score: \", accuracy, \"%\", sep=\"\")\n",
    "print(\"F1 Score: \", f1, \"%\", sep=\"\")\n",
    "print(\"Confusion Matrix:\\n\", tabulate(cm, tablefmt=\"grid\"), sep=\"\")"
   ]
  },
  {
   "cell_type": "markdown",
   "metadata": {},
   "source": [
    "Fine Tuned Algorithm"
   ]
  },
  {
   "cell_type": "code",
   "execution_count": null,
   "metadata": {},
   "outputs": [],
   "source": [
    "clf = DecisionTreeClassifier(splitter=\"random\")\n",
    "clf.fit(x_train, y_train)"
   ]
  },
  {
   "cell_type": "code",
   "execution_count": null,
   "metadata": {},
   "outputs": [],
   "source": [
    "y_cal = clf.predict(x_val)\n",
    "\n",
    "print(\"Decision Tree - Validation Dataset Final\")\n",
    "print(\"-----------------------\\n\")\n",
    "\n",
    "auc_roc = round(roc_auc_score(y_val, y_cal)*100, 2)\n",
    "accuracy = round(accuracy_score(y_val, y_cal)*100, 2)\n",
    "f1 = round(f1_score(y_val, y_cal)*100, 2)\n",
    "cm = confusion_matrix(y_val, y_cal)\n",
    "\n",
    "print(\"AUC-ROC Score: \", auc_roc, \"%\", sep=\"\")\n",
    "print(\"Accuracy Score: \", accuracy, \"%\", sep=\"\")\n",
    "print(\"F1 Score: \", f1, \"%\", sep=\"\")\n",
    "print(\"Confusion Matrix:\\n\", tabulate(cm, tablefmt=\"grid\"), sep=\"\")"
   ]
  },
  {
   "cell_type": "code",
   "execution_count": null,
   "metadata": {},
   "outputs": [],
   "source": [
    "y_res = clf.predict(x_test)\n",
    "\n",
    "print(\"Decision Tree - Test Dataset Final\")\n",
    "print(\"-----------------------\\n\")\n",
    "\n",
    "auc_roc = round(roc_auc_score(y_test, y_res)*100, 2)\n",
    "accuracy = round(accuracy_score(y_test, y_res)*100, 2)\n",
    "f1 = round(f1_score(y_test, y_res)*100, 2)\n",
    "cm = confusion_matrix(y_test, y_res)\n",
    "\n",
    "print(\"AUC-ROC Score: \", auc_roc, \"%\", sep=\"\")\n",
    "print(\"Accuracy Score: \", accuracy, \"%\", sep=\"\")\n",
    "print(\"F1 Score: \", f1, \"%\", sep=\"\")\n",
    "print(\"Confusion Matrix:\\n\", tabulate(cm, tablefmt=\"grid\"), sep=\"\")"
   ]
  },
  {
   "cell_type": "markdown",
   "metadata": {},
   "source": [
    "### Random Forest"
   ]
  },
  {
   "cell_type": "markdown",
   "metadata": {},
   "source": [
    "Default Parameters"
   ]
  },
  {
   "cell_type": "code",
   "execution_count": null,
   "metadata": {},
   "outputs": [],
   "source": [
    "clf = RandomForestClassifier()\n",
    "clf.fit(x_train, y_train)"
   ]
  },
  {
   "cell_type": "code",
   "execution_count": null,
   "metadata": {},
   "outputs": [],
   "source": [
    "y_cal = clf.predict(x_val)\n",
    "\n",
    "print(\"Random Forest - Trial 1\")\n",
    "print(\"-----------------------\\n\")\n",
    "\n",
    "auc_roc = round(roc_auc_score(y_val, y_cal)*100, 2)\n",
    "accuracy = round(accuracy_score(y_val, y_cal)*100, 2)\n",
    "f1 = round(f1_score(y_val, y_cal)*100, 2)\n",
    "cm = confusion_matrix(y_val, y_cal)\n",
    "\n",
    "print(\"AUC-ROC Score: \", auc_roc, \"%\", sep=\"\")\n",
    "print(\"Accuracy Score: \", accuracy, \"%\", sep=\"\")\n",
    "print(\"F1 Score: \", f1, \"%\", sep=\"\")\n",
    "print(\"Confusion Matrix:\\n\", tabulate(cm, tablefmt=\"grid\"), sep=\"\")"
   ]
  },
  {
   "cell_type": "markdown",
   "metadata": {},
   "source": [
    "Hypertuning Parameters"
   ]
  },
  {
   "cell_type": "markdown",
   "metadata": {},
   "source": [
    "criterion Parameter"
   ]
  },
  {
   "cell_type": "code",
   "execution_count": null,
   "metadata": {},
   "outputs": [],
   "source": [
    "param_grid = {\n",
    "    \"criterion\": [\"gini\", \"entropy\", \"log_loss\"] # default - \"gini\"\n",
    "}\n",
    "\n",
    "clf = GridSearchCV(RandomForestClassifier(), param_grid, cv=5)\n",
    "clf.fit(x_train, y_train)\n",
    "\n",
    "print(clf.best_params_)"
   ]
  },
  {
   "cell_type": "code",
   "execution_count": null,
   "metadata": {},
   "outputs": [],
   "source": [
    "y_cal = clf.predict(x_val)\n",
    "\n",
    "print(\"Random Forest - Trial 2\")\n",
    "print(\"-----------------------\\n\")\n",
    "\n",
    "auc_roc = round(roc_auc_score(y_val, y_cal)*100, 2)\n",
    "accuracy = round(accuracy_score(y_val, y_cal)*100, 2)\n",
    "f1 = round(f1_score(y_val, y_cal)*100, 2)\n",
    "cm = confusion_matrix(y_val, y_cal)\n",
    "\n",
    "print(\"AUC-ROC Score: \", auc_roc, \"%\", sep=\"\")\n",
    "print(\"Accuracy Score: \", accuracy, \"%\", sep=\"\")\n",
    "print(\"F1 Score: \", f1, \"%\", sep=\"\")\n",
    "print(\"Confusion Matrix:\\n\", tabulate(cm, tablefmt=\"grid\"), sep=\"\")"
   ]
  },
  {
   "cell_type": "markdown",
   "metadata": {},
   "source": [
    "n_estimators Parameter"
   ]
  },
  {
   "cell_type": "code",
   "execution_count": null,
   "metadata": {},
   "outputs": [],
   "source": [
    "param_grid = {\n",
    "    \"n_estimators\": [50, 100, 200] # default - 100\n",
    "}\n",
    "\n",
    "clf = GridSearchCV(RandomForestClassifier(), param_grid, cv=5)\n",
    "clf.fit(x_train, y_train)\n",
    "\n",
    "print(clf.best_params_)"
   ]
  },
  {
   "cell_type": "code",
   "execution_count": null,
   "metadata": {},
   "outputs": [],
   "source": [
    "y_cal = clf.predict(x_val)\n",
    "\n",
    "print(\"Random Forest - Trial 3\")\n",
    "print(\"-----------------------\\n\")\n",
    "\n",
    "auc_roc = round(roc_auc_score(y_val, y_cal)*100, 2)\n",
    "accuracy = round(accuracy_score(y_val, y_cal)*100, 2)\n",
    "f1 = round(f1_score(y_val, y_cal)*100, 2)\n",
    "cm = confusion_matrix(y_val, y_cal)\n",
    "\n",
    "print(\"AUC-ROC Score: \", auc_roc, \"%\", sep=\"\")\n",
    "print(\"Accuracy Score: \", accuracy, \"%\", sep=\"\")\n",
    "print(\"F1 Score: \", f1, \"%\", sep=\"\")\n",
    "print(\"Confusion Matrix:\\n\", tabulate(cm, tablefmt=\"grid\"), sep=\"\")"
   ]
  },
  {
   "cell_type": "markdown",
   "metadata": {},
   "source": [
    "max_depth Parameter"
   ]
  },
  {
   "cell_type": "code",
   "execution_count": null,
   "metadata": {},
   "outputs": [],
   "source": [
    "param_grid = {\n",
    "    \"max_depth\": [3, 5, 8] # default - None\n",
    "}\n",
    "\n",
    "clf = GridSearchCV(RandomForestClassifier(), param_grid, cv=5)\n",
    "clf.fit(x_train, y_train)\n",
    "\n",
    "print(clf.best_params_)"
   ]
  },
  {
   "cell_type": "code",
   "execution_count": null,
   "metadata": {},
   "outputs": [],
   "source": [
    "y_cal = clf.predict(x_val)\n",
    "\n",
    "print(\"Random Forest - Trial 4\")\n",
    "print(\"-----------------------\\n\")\n",
    "\n",
    "auc_roc = round(roc_auc_score(y_val, y_cal)*100, 2)\n",
    "accuracy = round(accuracy_score(y_val, y_cal)*100, 2)\n",
    "f1 = round(f1_score(y_val, y_cal)*100, 2)\n",
    "cm = confusion_matrix(y_val, y_cal)\n",
    "\n",
    "print(\"AUC-ROC Score: \", auc_roc, \"%\", sep=\"\")\n",
    "print(\"Accuracy Score: \", accuracy, \"%\", sep=\"\")\n",
    "print(\"F1 Score: \", f1, \"%\", sep=\"\")\n",
    "print(\"Confusion Matrix:\\n\", tabulate(cm, tablefmt=\"grid\"), sep=\"\")"
   ]
  },
  {
   "cell_type": "markdown",
   "metadata": {},
   "source": [
    "min_samples_split Parameter"
   ]
  },
  {
   "cell_type": "code",
   "execution_count": null,
   "metadata": {},
   "outputs": [],
   "source": [
    "param_grid = {\n",
    "    \"min_samples_split\": [2, 5, 10] # default - 2\n",
    "}\n",
    "\n",
    "clf = GridSearchCV(RandomForestClassifier(), param_grid, cv=5)\n",
    "clf.fit(x_train, y_train)\n",
    "\n",
    "print(clf.best_params_)"
   ]
  },
  {
   "cell_type": "code",
   "execution_count": null,
   "metadata": {},
   "outputs": [],
   "source": [
    "y_cal = clf.predict(x_val)\n",
    "\n",
    "print(\"Random Forest - Trial 5\")\n",
    "print(\"-----------------------\\n\")\n",
    "\n",
    "auc_roc = round(roc_auc_score(y_val, y_cal)*100, 2)\n",
    "accuracy = round(accuracy_score(y_val, y_cal)*100, 2)\n",
    "f1 = round(f1_score(y_val, y_cal)*100, 2)\n",
    "cm = confusion_matrix(y_val, y_cal)\n",
    "\n",
    "print(\"AUC-ROC Score: \", auc_roc, \"%\", sep=\"\")\n",
    "print(\"Accuracy Score: \", accuracy, \"%\", sep=\"\")\n",
    "print(\"F1 Score: \", f1, \"%\", sep=\"\")\n",
    "print(\"Confusion Matrix:\\n\", tabulate(cm, tablefmt=\"grid\"), sep=\"\")"
   ]
  },
  {
   "cell_type": "markdown",
   "metadata": {},
   "source": [
    "min_samples_leaf Parameter"
   ]
  },
  {
   "cell_type": "code",
   "execution_count": null,
   "metadata": {},
   "outputs": [],
   "source": [
    "param_grid = {\n",
    "    \"min_samples_leaf\": [1, 2, 4] # default - 1\n",
    "}\n",
    "\n",
    "clf = GridSearchCV(RandomForestClassifier(), param_grid, cv=5)\n",
    "clf.fit(x_train, y_train)\n",
    "\n",
    "print(clf.best_params_)"
   ]
  },
  {
   "cell_type": "code",
   "execution_count": null,
   "metadata": {},
   "outputs": [],
   "source": [
    "y_cal = clf.predict(x_val)\n",
    "\n",
    "print(\"Random Forest - Trial 6\")\n",
    "print(\"-----------------------\\n\")\n",
    "\n",
    "auc_roc = round(roc_auc_score(y_val, y_cal)*100, 2)\n",
    "accuracy = round(accuracy_score(y_val, y_cal)*100, 2)\n",
    "f1 = round(f1_score(y_val, y_cal)*100, 2)\n",
    "cm = confusion_matrix(y_val, y_cal)\n",
    "\n",
    "print(\"AUC-ROC Score: \", auc_roc, \"%\", sep=\"\")\n",
    "print(\"Accuracy Score: \", accuracy, \"%\", sep=\"\")\n",
    "print(\"F1 Score: \", f1, \"%\", sep=\"\")\n",
    "print(\"Confusion Matrix:\\n\", tabulate(cm, tablefmt=\"grid\"), sep=\"\")"
   ]
  },
  {
   "cell_type": "markdown",
   "metadata": {},
   "source": [
    "min_weight_fraction_leaf Parameter"
   ]
  },
  {
   "cell_type": "code",
   "execution_count": null,
   "metadata": {},
   "outputs": [],
   "source": [
    "param_grid = {\n",
    "    \"min_weight_fraction_leaf\": [0.0, 0.1, 0.2] # default - 0.0\n",
    "}\n",
    "\n",
    "clf = GridSearchCV(RandomForestClassifier(), param_grid, cv=5)\n",
    "clf.fit(x_train, y_train)\n",
    "\n",
    "print(clf.best_params_)"
   ]
  },
  {
   "cell_type": "code",
   "execution_count": null,
   "metadata": {},
   "outputs": [],
   "source": [
    "y_cal = clf.predict(x_val)\n",
    "\n",
    "print(\"Random Forest - Trial 7\")\n",
    "print(\"-----------------------\\n\")\n",
    "\n",
    "auc_roc = round(roc_auc_score(y_val, y_cal)*100, 2)\n",
    "accuracy = round(accuracy_score(y_val, y_cal)*100, 2)\n",
    "f1 = round(f1_score(y_val, y_cal)*100, 2)\n",
    "cm = confusion_matrix(y_val, y_cal)\n",
    "\n",
    "print(\"AUC-ROC Score: \", auc_roc, \"%\", sep=\"\")\n",
    "print(\"Accuracy Score: \", accuracy, \"%\", sep=\"\")\n",
    "print(\"F1 Score: \", f1, \"%\", sep=\"\")\n",
    "print(\"Confusion Matrix:\\n\", tabulate(cm, tablefmt=\"grid\"), sep=\"\")"
   ]
  },
  {
   "cell_type": "markdown",
   "metadata": {},
   "source": [
    "max_features Parameter"
   ]
  },
  {
   "cell_type": "code",
   "execution_count": null,
   "metadata": {},
   "outputs": [],
   "source": [
    "param_grid = {\n",
    "    \"max_features\": [\"auto\", \"sqrt\", \"log2\"] # default - \"sqrt\"\n",
    "}\n",
    "\n",
    "clf = GridSearchCV(RandomForestClassifier(), param_grid, cv=5)\n",
    "clf.fit(x_train, y_train)\n",
    "\n",
    "print(clf.best_params_)"
   ]
  },
  {
   "cell_type": "code",
   "execution_count": null,
   "metadata": {},
   "outputs": [],
   "source": [
    "y_cal = clf.predict(x_val)\n",
    "\n",
    "print(\"Random Forest - Trial 8\")\n",
    "print(\"-----------------------\\n\")\n",
    "\n",
    "auc_roc = round(roc_auc_score(y_val, y_cal)*100, 2)\n",
    "accuracy = round(accuracy_score(y_val, y_cal)*100, 2)\n",
    "f1 = round(f1_score(y_val, y_cal)*100, 2)\n",
    "cm = confusion_matrix(y_val, y_cal)\n",
    "\n",
    "print(\"AUC-ROC Score: \", auc_roc, \"%\", sep=\"\")\n",
    "print(\"Accuracy Score: \", accuracy, \"%\", sep=\"\")\n",
    "print(\"F1 Score: \", f1, \"%\", sep=\"\")\n",
    "print(\"Confusion Matrix:\\n\", tabulate(cm, tablefmt=\"grid\"), sep=\"\")"
   ]
  },
  {
   "cell_type": "markdown",
   "metadata": {},
   "source": [
    "max_leaf_nodes Parameter"
   ]
  },
  {
   "cell_type": "code",
   "execution_count": null,
   "metadata": {},
   "outputs": [],
   "source": [
    "param_grid = {\n",
    "    \"max_leaf_nodes\": [None, 10, 30] # default - None\n",
    "}\n",
    "\n",
    "clf = GridSearchCV(RandomForestClassifier(), param_grid, cv=5)\n",
    "clf.fit(x_train, y_train)\n",
    "\n",
    "print(clf.best_params_)"
   ]
  },
  {
   "cell_type": "code",
   "execution_count": null,
   "metadata": {},
   "outputs": [],
   "source": [
    "y_cal = clf.predict(x_val)\n",
    "\n",
    "print(\"Random Forest - Trial 9\")\n",
    "print(\"-----------------------\\n\")\n",
    "\n",
    "auc_roc = round(roc_auc_score(y_val, y_cal)*100, 2)\n",
    "accuracy = round(accuracy_score(y_val, y_cal)*100, 2)\n",
    "f1 = round(f1_score(y_val, y_cal)*100, 2)\n",
    "cm = confusion_matrix(y_val, y_cal)\n",
    "\n",
    "print(\"AUC-ROC Score: \", auc_roc, \"%\", sep=\"\")\n",
    "print(\"Accuracy Score: \", accuracy, \"%\", sep=\"\")\n",
    "print(\"F1 Score: \", f1, \"%\", sep=\"\")\n",
    "print(\"Confusion Matrix:\\n\", tabulate(cm, tablefmt=\"grid\"), sep=\"\")"
   ]
  },
  {
   "cell_type": "markdown",
   "metadata": {},
   "source": [
    "min_impurity_decrease Parameter"
   ]
  },
  {
   "cell_type": "code",
   "execution_count": null,
   "metadata": {},
   "outputs": [],
   "source": [
    "param_grid = {\n",
    "    \"min_impurity_decrease\": [0.0, 0.1, 0.2] # default - 0.0\n",
    "}\n",
    "\n",
    "clf = GridSearchCV(RandomForestClassifier(), param_grid, cv=5)\n",
    "clf.fit(x_train, y_train)\n",
    "\n",
    "print(clf.best_params_)"
   ]
  },
  {
   "cell_type": "code",
   "execution_count": null,
   "metadata": {},
   "outputs": [],
   "source": [
    "y_cal = clf.predict(x_val)\n",
    "\n",
    "print(\"Random Forest - Trial 10\")\n",
    "print(\"-----------------------\\n\")\n",
    "\n",
    "auc_roc = round(roc_auc_score(y_val, y_cal)*100, 2)\n",
    "accuracy = round(accuracy_score(y_val, y_cal)*100, 2)\n",
    "f1 = round(f1_score(y_val, y_cal)*100, 2)\n",
    "cm = confusion_matrix(y_val, y_cal)\n",
    "\n",
    "print(\"AUC-ROC Score: \", auc_roc, \"%\", sep=\"\")\n",
    "print(\"Accuracy Score: \", accuracy, \"%\", sep=\"\")\n",
    "print(\"F1 Score: \", f1, \"%\", sep=\"\")\n",
    "print(\"Confusion Matrix:\\n\", tabulate(cm, tablefmt=\"grid\"), sep=\"\")"
   ]
  },
  {
   "cell_type": "markdown",
   "metadata": {},
   "source": [
    "bootstrap Parameter"
   ]
  },
  {
   "cell_type": "code",
   "execution_count": null,
   "metadata": {},
   "outputs": [],
   "source": [
    "param_grid = {\n",
    "    \"bootstrap\": [True, False] # default - True\n",
    "}\n",
    "\n",
    "clf = GridSearchCV(RandomForestClassifier(), param_grid, cv=5)\n",
    "clf.fit(x_train, y_train)\n",
    "\n",
    "print(clf.best_params_)"
   ]
  },
  {
   "cell_type": "code",
   "execution_count": null,
   "metadata": {},
   "outputs": [],
   "source": [
    "y_cal = clf.predict(x_val)\n",
    "\n",
    "print(\"Random Forest - Trial 11\")\n",
    "print(\"-----------------------\\n\")\n",
    "\n",
    "auc_roc = round(roc_auc_score(y_val, y_cal)*100, 2)\n",
    "accuracy = round(accuracy_score(y_val, y_cal)*100, 2)\n",
    "f1 = round(f1_score(y_val, y_cal)*100, 2)\n",
    "cm = confusion_matrix(y_val, y_cal)\n",
    "\n",
    "print(\"AUC-ROC Score: \", auc_roc, \"%\", sep=\"\")\n",
    "print(\"Accuracy Score: \", accuracy, \"%\", sep=\"\")\n",
    "print(\"F1 Score: \", f1, \"%\", sep=\"\")\n",
    "print(\"Confusion Matrix:\\n\", tabulate(cm, tablefmt=\"grid\"), sep=\"\")"
   ]
  },
  {
   "cell_type": "markdown",
   "metadata": {},
   "source": [
    "oob_score Parameter"
   ]
  },
  {
   "cell_type": "code",
   "execution_count": null,
   "metadata": {},
   "outputs": [],
   "source": [
    "param_grid = {\n",
    "    \"oob_score\": [True, False] # default - False\n",
    "}\n",
    "\n",
    "clf = GridSearchCV(RandomForestClassifier(), param_grid, cv=5)\n",
    "clf.fit(x_train, y_train)\n",
    "\n",
    "print(clf.best_params_)"
   ]
  },
  {
   "cell_type": "code",
   "execution_count": null,
   "metadata": {},
   "outputs": [],
   "source": [
    "y_cal = clf.predict(x_val)\n",
    "\n",
    "print(\"Random Forest - Trial 12\")\n",
    "print(\"-----------------------\\n\")\n",
    "\n",
    "auc_roc = round(roc_auc_score(y_val, y_cal)*100, 2)\n",
    "accuracy = round(accuracy_score(y_val, y_cal)*100, 2)\n",
    "f1 = round(f1_score(y_val, y_cal)*100, 2)\n",
    "cm = confusion_matrix(y_val, y_cal)\n",
    "\n",
    "print(\"AUC-ROC Score: \", auc_roc, \"%\", sep=\"\")\n",
    "print(\"Accuracy Score: \", accuracy, \"%\", sep=\"\")\n",
    "print(\"F1 Score: \", f1, \"%\", sep=\"\")\n",
    "print(\"Confusion Matrix:\\n\", tabulate(cm, tablefmt=\"grid\"), sep=\"\")"
   ]
  },
  {
   "cell_type": "markdown",
   "metadata": {},
   "source": [
    "n_jobs Parameter"
   ]
  },
  {
   "cell_type": "code",
   "execution_count": null,
   "metadata": {},
   "outputs": [],
   "source": [
    "param_grid = {\n",
    "    \"n_jobs\": [-1, 1] # default - None\n",
    "}\n",
    "\n",
    "clf = GridSearchCV(RandomForestClassifier(), param_grid, cv=5)\n",
    "clf.fit(x_train, y_train)\n",
    "\n",
    "print(clf.best_params_)"
   ]
  },
  {
   "cell_type": "code",
   "execution_count": null,
   "metadata": {},
   "outputs": [],
   "source": [
    "y_cal = clf.predict(x_val)\n",
    "\n",
    "print(\"Random Forest - Trial 13\")\n",
    "print(\"-----------------------\\n\")\n",
    "\n",
    "auc_roc = round(roc_auc_score(y_val, y_cal)*100, 2)\n",
    "accuracy = round(accuracy_score(y_val, y_cal)*100, 2)\n",
    "f1 = round(f1_score(y_val, y_cal)*100, 2)\n",
    "cm = confusion_matrix(y_val, y_cal)\n",
    "\n",
    "print(\"AUC-ROC Score: \", auc_roc, \"%\", sep=\"\")\n",
    "print(\"Accuracy Score: \", accuracy, \"%\", sep=\"\")\n",
    "print(\"F1 Score: \", f1, \"%\", sep=\"\")\n",
    "print(\"Confusion Matrix:\\n\", tabulate(cm, tablefmt=\"grid\"), sep=\"\")"
   ]
  },
  {
   "cell_type": "markdown",
   "metadata": {},
   "source": [
    "random_state Parameter"
   ]
  },
  {
   "cell_type": "code",
   "execution_count": null,
   "metadata": {},
   "outputs": [],
   "source": [
    "param_grid = {\n",
    "    \"random_state\": [42, 100, None] # default - None\n",
    "}\n",
    "\n",
    "clf = GridSearchCV(RandomForestClassifier(), param_grid, cv=5)\n",
    "clf.fit(x_train, y_train)\n",
    "\n",
    "print(clf.best_params_)"
   ]
  },
  {
   "cell_type": "code",
   "execution_count": null,
   "metadata": {},
   "outputs": [],
   "source": [
    "y_cal = clf.predict(x_val)\n",
    "\n",
    "print(\"Random Forest - Trial 14\")\n",
    "print(\"-----------------------\\n\")\n",
    "\n",
    "auc_roc = round(roc_auc_score(y_val, y_cal)*100, 2)\n",
    "accuracy = round(accuracy_score(y_val, y_cal)*100, 2)\n",
    "f1 = round(f1_score(y_val, y_cal)*100, 2)\n",
    "cm = confusion_matrix(y_val, y_cal)\n",
    "\n",
    "print(\"AUC-ROC Score: \", auc_roc, \"%\", sep=\"\")\n",
    "print(\"Accuracy Score: \", accuracy, \"%\", sep=\"\")\n",
    "print(\"F1 Score: \", f1, \"%\", sep=\"\")\n",
    "print(\"Confusion Matrix:\\n\", tabulate(cm, tablefmt=\"grid\"), sep=\"\")"
   ]
  },
  {
   "cell_type": "markdown",
   "metadata": {},
   "source": [
    "verbose Parameter"
   ]
  },
  {
   "cell_type": "code",
   "execution_count": null,
   "metadata": {},
   "outputs": [],
   "source": [
    "param_grid = {\n",
    "    \"verbose\": [0, 1] # default - 0\n",
    "}\n",
    "\n",
    "clf = GridSearchCV(RandomForestClassifier(), param_grid, cv=5)\n",
    "clf.fit(x_train, y_train)\n",
    "\n",
    "print(clf.best_params_)"
   ]
  },
  {
   "cell_type": "code",
   "execution_count": null,
   "metadata": {},
   "outputs": [],
   "source": [
    "y_cal = clf.predict(x_val)\n",
    "\n",
    "print(\"Random Forest - Trial 15\")\n",
    "print(\"-----------------------\\n\")\n",
    "\n",
    "auc_roc = round(roc_auc_score(y_val, y_cal)*100, 2)\n",
    "accuracy = round(accuracy_score(y_val, y_cal)*100, 2)\n",
    "f1 = round(f1_score(y_val, y_cal)*100, 2)\n",
    "cm = confusion_matrix(y_val, y_cal)\n",
    "\n",
    "print(\"AUC-ROC Score: \", auc_roc, \"%\", sep=\"\")\n",
    "print(\"Accuracy Score: \", accuracy, \"%\", sep=\"\")\n",
    "print(\"F1 Score: \", f1, \"%\", sep=\"\")\n",
    "print(\"Confusion Matrix:\\n\", tabulate(cm, tablefmt=\"grid\"), sep=\"\")"
   ]
  },
  {
   "cell_type": "markdown",
   "metadata": {},
   "source": [
    "warm_start Parameter"
   ]
  },
  {
   "cell_type": "code",
   "execution_count": null,
   "metadata": {},
   "outputs": [],
   "source": [
    "param_grid = {\n",
    "    \"warm_start\": [True, False] # default - False\n",
    "}\n",
    "\n",
    "clf = GridSearchCV(RandomForestClassifier(), param_grid, cv=5)\n",
    "clf.fit(x_train, y_train)\n",
    "\n",
    "print(clf.best_params_)"
   ]
  },
  {
   "cell_type": "code",
   "execution_count": null,
   "metadata": {},
   "outputs": [],
   "source": [
    "y_cal = clf.predict(x_val)\n",
    "\n",
    "print(\"Random Forest - Trial 16\")\n",
    "print(\"-----------------------\\n\")\n",
    "\n",
    "auc_roc = round(roc_auc_score(y_val, y_cal)*100, 2)\n",
    "accuracy = round(accuracy_score(y_val, y_cal)*100, 2)\n",
    "f1 = round(f1_score(y_val, y_cal)*100, 2)\n",
    "cm = confusion_matrix(y_val, y_cal)\n",
    "\n",
    "print(\"AUC-ROC Score: \", auc_roc, \"%\", sep=\"\")\n",
    "print(\"Accuracy Score: \", accuracy, \"%\", sep=\"\")\n",
    "print(\"F1 Score: \", f1, \"%\", sep=\"\")\n",
    "print(\"Confusion Matrix:\\n\", tabulate(cm, tablefmt=\"grid\"), sep=\"\")"
   ]
  },
  {
   "cell_type": "markdown",
   "metadata": {},
   "source": [
    "class_weight Parameter"
   ]
  },
  {
   "cell_type": "code",
   "execution_count": null,
   "metadata": {},
   "outputs": [],
   "source": [
    "param_grid = {\n",
    "    \"class_weight\": [\"balanced\", None] # default - None\n",
    "}\n",
    "\n",
    "clf = GridSearchCV(RandomForestClassifier(), param_grid, cv=5)\n",
    "clf.fit(x_train, y_train)\n",
    "\n",
    "print(clf.best_params_)"
   ]
  },
  {
   "cell_type": "code",
   "execution_count": null,
   "metadata": {},
   "outputs": [],
   "source": [
    "y_cal = clf.predict(x_val)\n",
    "\n",
    "print(\"Random Forest - Trial 17\")\n",
    "print(\"-----------------------\\n\")\n",
    "\n",
    "auc_roc = round(roc_auc_score(y_val, y_cal)*100, 2)\n",
    "accuracy = round(accuracy_score(y_val, y_cal)*100, 2)\n",
    "f1 = round(f1_score(y_val, y_cal)*100, 2)\n",
    "cm = confusion_matrix(y_val, y_cal)\n",
    "\n",
    "print(\"AUC-ROC Score: \", auc_roc, \"%\", sep=\"\")\n",
    "print(\"Accuracy Score: \", accuracy, \"%\", sep=\"\")\n",
    "print(\"F1 Score: \", f1, \"%\", sep=\"\")\n",
    "print(\"Confusion Matrix:\\n\", tabulate(cm, tablefmt=\"grid\"), sep=\"\")"
   ]
  },
  {
   "cell_type": "markdown",
   "metadata": {},
   "source": [
    "ccp_alpha Parameter"
   ]
  },
  {
   "cell_type": "code",
   "execution_count": null,
   "metadata": {},
   "outputs": [],
   "source": [
    "param_grid = {\n",
    "    \"ccp_alpha\": [0.0, 0.1, None] # default - 0.0\n",
    "}\n",
    "\n",
    "clf = GridSearchCV(RandomForestClassifier(), param_grid, cv=5)\n",
    "clf.fit(x_train, y_train)\n",
    "\n",
    "print(clf.best_params_)"
   ]
  },
  {
   "cell_type": "code",
   "execution_count": null,
   "metadata": {},
   "outputs": [],
   "source": [
    "y_cal = clf.predict(x_val)\n",
    "\n",
    "print(\"Random Forest - Trial 18\")\n",
    "print(\"-----------------------\\n\")\n",
    "\n",
    "auc_roc = round(roc_auc_score(y_val, y_cal)*100, 2)\n",
    "accuracy = round(accuracy_score(y_val, y_cal)*100, 2)\n",
    "f1 = round(f1_score(y_val, y_cal)*100, 2)\n",
    "cm = confusion_matrix(y_val, y_cal)\n",
    "\n",
    "print(\"AUC-ROC Score: \", auc_roc, \"%\", sep=\"\")\n",
    "print(\"Accuracy Score: \", accuracy, \"%\", sep=\"\")\n",
    "print(\"F1 Score: \", f1, \"%\", sep=\"\")\n",
    "print(\"Confusion Matrix:\\n\", tabulate(cm, tablefmt=\"grid\"), sep=\"\")"
   ]
  },
  {
   "cell_type": "markdown",
   "metadata": {},
   "source": [
    "max_samples Parameter"
   ]
  },
  {
   "cell_type": "code",
   "execution_count": null,
   "metadata": {},
   "outputs": [],
   "source": [
    "param_grid = {\n",
    "    \"max_samples\": [None, 0.5, 1.0] # default - None\n",
    "}\n",
    "\n",
    "clf = GridSearchCV(RandomForestClassifier(), param_grid, cv=5)\n",
    "clf.fit(x_train, y_train)\n",
    "\n",
    "print(clf.best_params_)"
   ]
  },
  {
   "cell_type": "code",
   "execution_count": null,
   "metadata": {},
   "outputs": [],
   "source": [
    "y_cal = clf.predict(x_val)\n",
    "\n",
    "print(\"Random Forest - Trial 19\")\n",
    "print(\"-----------------------\\n\")\n",
    "\n",
    "auc_roc = round(roc_auc_score(y_val, y_cal)*100, 2)\n",
    "accuracy = round(accuracy_score(y_val, y_cal)*100, 2)\n",
    "f1 = round(f1_score(y_val, y_cal)*100, 2)\n",
    "cm = confusion_matrix(y_val, y_cal)\n",
    "\n",
    "print(\"AUC-ROC Score: \", auc_roc, \"%\", sep=\"\")\n",
    "print(\"Accuracy Score: \", accuracy, \"%\", sep=\"\")\n",
    "print(\"F1 Score: \", f1, \"%\", sep=\"\")\n",
    "print(\"Confusion Matrix:\\n\", tabulate(cm, tablefmt=\"grid\"), sep=\"\")"
   ]
  },
  {
   "cell_type": "markdown",
   "metadata": {},
   "source": [
    "Fine Tuned Algorithm"
   ]
  },
  {
   "cell_type": "code",
   "execution_count": null,
   "metadata": {},
   "outputs": [],
   "source": [
    "clf = RandomForestClassifier(max_samples = 0.5)\n",
    "clf.fit(x_train, y_train)"
   ]
  },
  {
   "cell_type": "code",
   "execution_count": null,
   "metadata": {},
   "outputs": [],
   "source": [
    "y_cal = clf.predict(x_val)\n",
    "\n",
    "print(\"Random Forest - Validation Dataset Final\")\n",
    "print(\"-----------------------\\n\")\n",
    "\n",
    "auc_roc = round(roc_auc_score(y_val, y_cal)*100, 2)\n",
    "accuracy = round(accuracy_score(y_val, y_cal)*100, 2)\n",
    "f1 = round(f1_score(y_val, y_cal)*100, 2)\n",
    "cm = confusion_matrix(y_val, y_cal)\n",
    "\n",
    "print(\"AUC-ROC Score: \", auc_roc, \"%\", sep=\"\")\n",
    "print(\"Accuracy Score: \", accuracy, \"%\", sep=\"\")\n",
    "print(\"F1 Score: \", f1, \"%\", sep=\"\")\n",
    "print(\"Confusion Matrix:\\n\", tabulate(cm, tablefmt=\"grid\"), sep=\"\")"
   ]
  },
  {
   "cell_type": "code",
   "execution_count": null,
   "metadata": {},
   "outputs": [],
   "source": [
    "y_res = clf.predict(x_test)\n",
    "\n",
    "print(\"Random Forest - Test Dataset Final\")\n",
    "print(\"-----------------------\\n\")\n",
    "\n",
    "auc_roc = round(roc_auc_score(y_test, y_res)*100, 2)\n",
    "accuracy = round(accuracy_score(y_test, y_res)*100, 2)\n",
    "f1 = round(f1_score(y_test, y_res)*100, 2)\n",
    "cm = confusion_matrix(y_test, y_res)\n",
    "\n",
    "print(\"AUC-ROC Score: \", auc_roc, \"%\", sep=\"\")\n",
    "print(\"Accuracy Score: \", accuracy, \"%\", sep=\"\")\n",
    "print(\"F1 Score: \", f1, \"%\", sep=\"\")\n",
    "print(\"Confusion Matrix:\\n\", tabulate(cm, tablefmt=\"grid\"), sep=\"\")"
   ]
  },
  {
   "cell_type": "markdown",
   "metadata": {},
   "source": [
    "### SVM"
   ]
  },
  {
   "cell_type": "markdown",
   "metadata": {},
   "source": [
    "Default Parameters"
   ]
  },
  {
   "cell_type": "code",
   "execution_count": null,
   "metadata": {},
   "outputs": [],
   "source": [
    "clf = SVC()\n",
    "clf.fit(x_train, y_train)"
   ]
  },
  {
   "cell_type": "code",
   "execution_count": null,
   "metadata": {},
   "outputs": [],
   "source": [
    "y_cal = clf.predict(x_val)\n",
    "\n",
    "print(\"SVM - Trial 1\")\n",
    "print(\"-----------------------\\n\")\n",
    "\n",
    "auc_roc = round(roc_auc_score(y_val, y_cal)*100, 2)\n",
    "accuracy = round(accuracy_score(y_val, y_cal)*100, 2)\n",
    "f1 = round(f1_score(y_val, y_cal)*100, 2)\n",
    "cm = confusion_matrix(y_val, y_cal)\n",
    "\n",
    "print(\"AUC-ROC Score: \", auc_roc, \"%\", sep=\"\")\n",
    "print(\"Accuracy Score: \", accuracy, \"%\", sep=\"\")\n",
    "print(\"F1 Score: \", f1, \"%\", sep=\"\")\n",
    "print(\"Confusion Matrix:\\n\", tabulate(cm, tablefmt=\"grid\"), sep=\"\")"
   ]
  },
  {
   "cell_type": "markdown",
   "metadata": {},
   "source": [
    "Hypertuning Parameters"
   ]
  },
  {
   "cell_type": "markdown",
   "metadata": {},
   "source": [
    "C Parameter"
   ]
  },
  {
   "cell_type": "code",
   "execution_count": null,
   "metadata": {},
   "outputs": [],
   "source": [
    "param_grid = {\n",
    "    \"C\": [0.1, 1, 10, 100] # default - 1.0\n",
    "}\n",
    "\n",
    "grid_search = GridSearchCV(SVC(), param_grid, cv=5)\n",
    "grid_search.fit(x_train, y_train)\n",
    "print(\"Best Parameters:\", grid_search.best_params_)\n",
    "best_model = grid_search.best_estimator_"
   ]
  },
  {
   "cell_type": "code",
   "execution_count": null,
   "metadata": {},
   "outputs": [],
   "source": [
    "y_cal = clf.predict(x_val)\n",
    "\n",
    "print(\"SVM - Trial 2\")\n",
    "print(\"-----------------------\\n\")\n",
    "\n",
    "auc_roc = round(roc_auc_score(y_val, y_cal)*100, 2)\n",
    "accuracy = round(accuracy_score(y_val, y_cal)*100, 2)\n",
    "f1 = round(f1_score(y_val, y_cal)*100, 2)\n",
    "cm = confusion_matrix(y_val, y_cal)\n",
    "\n",
    "print(\"AUC-ROC Score: \", auc_roc, \"%\", sep=\"\")\n",
    "print(\"Accuracy Score: \", accuracy, \"%\", sep=\"\")\n",
    "print(\"F1 Score: \", f1, \"%\", sep=\"\")\n",
    "print(\"Confusion Matrix:\\n\", tabulate(cm, tablefmt=\"grid\"), sep=\"\")"
   ]
  },
  {
   "cell_type": "markdown",
   "metadata": {},
   "source": [
    "kernel Parameter"
   ]
  },
  {
   "cell_type": "code",
   "execution_count": null,
   "metadata": {},
   "outputs": [],
   "source": [
    "param_grid = {\n",
    "    \"kernel\": [\"linear\", \"rbf\", \"poly\"] # default - \"rbf\"\n",
    "}\n",
    "\n",
    "grid_search = GridSearchCV(SVC(), param_grid, cv=5)\n",
    "grid_search.fit(x_train, y_train)\n",
    "print(\"Best Parameters:\", grid_search.best_params_)\n",
    "best_model = grid_search.best_estimator_"
   ]
  },
  {
   "cell_type": "code",
   "execution_count": null,
   "metadata": {},
   "outputs": [],
   "source": [
    "y_cal = clf.predict(x_val)\n",
    "\n",
    "print(\"SVM - Trial 3\")\n",
    "print(\"-----------------------\\n\")\n",
    "\n",
    "auc_roc = round(roc_auc_score(y_val, y_cal)*100, 2)\n",
    "accuracy = round(accuracy_score(y_val, y_cal)*100, 2)\n",
    "f1 = round(f1_score(y_val, y_cal)*100, 2)\n",
    "cm = confusion_matrix(y_val, y_cal)\n",
    "\n",
    "print(\"AUC-ROC Score: \", auc_roc, \"%\", sep=\"\")\n",
    "print(\"Accuracy Score: \", accuracy, \"%\", sep=\"\")\n",
    "print(\"F1 Score: \", f1, \"%\", sep=\"\")\n",
    "print(\"Confusion Matrix:\\n\", tabulate(cm, tablefmt=\"grid\"), sep=\"\")"
   ]
  },
  {
   "cell_type": "markdown",
   "metadata": {},
   "source": [
    "degree Parameter"
   ]
  },
  {
   "cell_type": "code",
   "execution_count": null,
   "metadata": {},
   "outputs": [],
   "source": [
    "param_grid = {\n",
    "    \"degree\": [2, 3, 4] # default - 3\n",
    "}\n",
    "\n",
    "grid_search = GridSearchCV(SVC(), param_grid, cv=5)\n",
    "grid_search.fit(x_train, y_train)\n",
    "print(\"Best Parameters:\", grid_search.best_params_)\n",
    "best_model = grid_search.best_estimator_"
   ]
  },
  {
   "cell_type": "code",
   "execution_count": null,
   "metadata": {},
   "outputs": [],
   "source": [
    "y_cal = clf.predict(x_val)\n",
    "\n",
    "print(\"SVM - Trial 4\")\n",
    "print(\"-----------------------\\n\")\n",
    "\n",
    "auc_roc = round(roc_auc_score(y_val, y_cal)*100, 2)\n",
    "accuracy = round(accuracy_score(y_val, y_cal)*100, 2)\n",
    "f1 = round(f1_score(y_val, y_cal)*100, 2)\n",
    "cm = confusion_matrix(y_val, y_cal)\n",
    "\n",
    "print(\"AUC-ROC Score: \", auc_roc, \"%\", sep=\"\")\n",
    "print(\"Accuracy Score: \", accuracy, \"%\", sep=\"\")\n",
    "print(\"F1 Score: \", f1, \"%\", sep=\"\")\n",
    "print(\"Confusion Matrix:\\n\", tabulate(cm, tablefmt=\"grid\"), sep=\"\")"
   ]
  },
  {
   "cell_type": "markdown",
   "metadata": {},
   "source": [
    "gamma Parameter"
   ]
  },
  {
   "cell_type": "code",
   "execution_count": null,
   "metadata": {},
   "outputs": [],
   "source": [
    "param_grid = {\n",
    "    \"gamma\": [\"auto\", \"scale\", 0.1, 0.01] # default - \"scale\"\n",
    "}\n",
    "\n",
    "grid_search = GridSearchCV(SVC(), param_grid, cv=5)\n",
    "grid_search.fit(x_train, y_train)\n",
    "print(\"Best Parameters:\", grid_search.best_params_)\n",
    "best_model = grid_search.best_estimator_"
   ]
  },
  {
   "cell_type": "code",
   "execution_count": null,
   "metadata": {},
   "outputs": [],
   "source": [
    "y_cal = clf.predict(x_val)\n",
    "\n",
    "print(\"SVM - Trial 5\")\n",
    "print(\"-----------------------\\n\")\n",
    "\n",
    "auc_roc = round(roc_auc_score(y_val, y_cal)*100, 2)\n",
    "accuracy = round(accuracy_score(y_val, y_cal)*100, 2)\n",
    "f1 = round(f1_score(y_val, y_cal)*100, 2)\n",
    "cm = confusion_matrix(y_val, y_cal)\n",
    "\n",
    "print(\"AUC-ROC Score: \", auc_roc, \"%\", sep=\"\")\n",
    "print(\"Accuracy Score: \", accuracy, \"%\", sep=\"\")\n",
    "print(\"F1 Score: \", f1, \"%\", sep=\"\")\n",
    "print(\"Confusion Matrix:\\n\", tabulate(cm, tablefmt=\"grid\"), sep=\"\")"
   ]
  },
  {
   "cell_type": "markdown",
   "metadata": {},
   "source": [
    "coef0 Parameter"
   ]
  },
  {
   "cell_type": "code",
   "execution_count": null,
   "metadata": {},
   "outputs": [],
   "source": [
    "param_grid = {\n",
    "    \"coef0\": [0.0] # default - 0.0\n",
    "}\n",
    "\n",
    "grid_search = GridSearchCV(SVC(), param_grid, cv=5)\n",
    "grid_search.fit(x_train, y_train)\n",
    "print(\"Best Parameters:\", grid_search.best_params_)\n",
    "best_model = grid_search.best_estimator_"
   ]
  },
  {
   "cell_type": "code",
   "execution_count": null,
   "metadata": {},
   "outputs": [],
   "source": [
    "y_cal = clf.predict(x_val)\n",
    "\n",
    "print(\"SVM - Trial 6\")\n",
    "print(\"-----------------------\\n\")\n",
    "\n",
    "auc_roc = round(roc_auc_score(y_val, y_cal)*100, 2)\n",
    "accuracy = round(accuracy_score(y_val, y_cal)*100, 2)\n",
    "f1 = round(f1_score(y_val, y_cal)*100, 2)\n",
    "cm = confusion_matrix(y_val, y_cal)\n",
    "\n",
    "print(\"AUC-ROC Score: \", auc_roc, \"%\", sep=\"\")\n",
    "print(\"Accuracy Score: \", accuracy, \"%\", sep=\"\")\n",
    "print(\"F1 Score: \", f1, \"%\", sep=\"\")\n",
    "print(\"Confusion Matrix:\\n\", tabulate(cm, tablefmt=\"grid\"), sep=\"\")"
   ]
  },
  {
   "cell_type": "markdown",
   "metadata": {},
   "source": [
    "shrinking Parameter"
   ]
  },
  {
   "cell_type": "code",
   "execution_count": null,
   "metadata": {},
   "outputs": [],
   "source": [
    "param_grid = {\n",
    "    \"shrinking\": [True, False] # default - True\n",
    "}\n",
    "\n",
    "grid_search = GridSearchCV(SVC(), param_grid, cv=5)\n",
    "grid_search.fit(x_train, y_train)\n",
    "print(\"Best Parameters:\", grid_search.best_params_)\n",
    "best_model = grid_search.best_estimator_"
   ]
  },
  {
   "cell_type": "code",
   "execution_count": null,
   "metadata": {},
   "outputs": [],
   "source": [
    "y_cal = clf.predict(x_val)\n",
    "\n",
    "print(\"SVM - Trial 7\")\n",
    "print(\"-----------------------\\n\")\n",
    "\n",
    "auc_roc = round(roc_auc_score(y_val, y_cal)*100, 2)\n",
    "accuracy = round(accuracy_score(y_val, y_cal)*100, 2)\n",
    "f1 = round(f1_score(y_val, y_cal)*100, 2)\n",
    "cm = confusion_matrix(y_val, y_cal)\n",
    "\n",
    "print(\"AUC-ROC Score: \", auc_roc, \"%\", sep=\"\")\n",
    "print(\"Accuracy Score: \", accuracy, \"%\", sep=\"\")\n",
    "print(\"F1 Score: \", f1, \"%\", sep=\"\")\n",
    "print(\"Confusion Matrix:\\n\", tabulate(cm, tablefmt=\"grid\"), sep=\"\")"
   ]
  },
  {
   "cell_type": "markdown",
   "metadata": {},
   "source": [
    "probability Parameter"
   ]
  },
  {
   "cell_type": "code",
   "execution_count": null,
   "metadata": {},
   "outputs": [],
   "source": [
    "param_grid = {\n",
    "    \"probability\": [True, False] # default - False\n",
    "}\n",
    "\n",
    "grid_search = GridSearchCV(SVC(), param_grid, cv=5)\n",
    "grid_search.fit(x_train, y_train)\n",
    "print(\"Best Parameters:\", grid_search.best_params_)\n",
    "best_model = grid_search.best_estimator_"
   ]
  },
  {
   "cell_type": "code",
   "execution_count": null,
   "metadata": {},
   "outputs": [],
   "source": [
    "y_cal = clf.predict(x_val)\n",
    "\n",
    "print(\"SVM - Trial 8\")\n",
    "print(\"-----------------------\\n\")\n",
    "\n",
    "auc_roc = round(roc_auc_score(y_val, y_cal)*100, 2)\n",
    "accuracy = round(accuracy_score(y_val, y_cal)*100, 2)\n",
    "f1 = round(f1_score(y_val, y_cal)*100, 2)\n",
    "cm = confusion_matrix(y_val, y_cal)\n",
    "\n",
    "print(\"AUC-ROC Score: \", auc_roc, \"%\", sep=\"\")\n",
    "print(\"Accuracy Score: \", accuracy, \"%\", sep=\"\")\n",
    "print(\"F1 Score: \", f1, \"%\", sep=\"\")\n",
    "print(\"Confusion Matrix:\\n\", tabulate(cm, tablefmt=\"grid\"), sep=\"\")"
   ]
  },
  {
   "cell_type": "markdown",
   "metadata": {},
   "source": [
    "tol Parameter"
   ]
  },
  {
   "cell_type": "code",
   "execution_count": null,
   "metadata": {},
   "outputs": [],
   "source": [
    "param_grid = {\n",
    "    \"tol\": [1e-3, 1e-4, 1e-5] # default - 1e-3\n",
    "}\n",
    "\n",
    "grid_search = GridSearchCV(SVC(), param_grid, cv=5)\n",
    "grid_search.fit(x_train, y_train)\n",
    "print(\"Best Parameters:\", grid_search.best_params_)\n",
    "best_model = grid_search.best_estimator_"
   ]
  },
  {
   "cell_type": "code",
   "execution_count": null,
   "metadata": {},
   "outputs": [],
   "source": [
    "y_cal = clf.predict(x_val)\n",
    "\n",
    "print(\"SVM - Trial 9\")\n",
    "print(\"-----------------------\\n\")\n",
    "\n",
    "auc_roc = round(roc_auc_score(y_val, y_cal)*100, 2)\n",
    "accuracy = round(accuracy_score(y_val, y_cal)*100, 2)\n",
    "f1 = round(f1_score(y_val, y_cal)*100, 2)\n",
    "cm = confusion_matrix(y_val, y_cal)\n",
    "\n",
    "print(\"AUC-ROC Score: \", auc_roc, \"%\", sep=\"\")\n",
    "print(\"Accuracy Score: \", accuracy, \"%\", sep=\"\")\n",
    "print(\"F1 Score: \", f1, \"%\", sep=\"\")\n",
    "print(\"Confusion Matrix:\\n\", tabulate(cm, tablefmt=\"grid\"), sep=\"\")"
   ]
  },
  {
   "cell_type": "markdown",
   "metadata": {},
   "source": [
    "cache_size Parameter"
   ]
  },
  {
   "cell_type": "code",
   "execution_count": null,
   "metadata": {},
   "outputs": [],
   "source": [
    "param_grid = {\n",
    "    \"cache_size\": [200, 500] # default - 200\n",
    "}\n",
    "\n",
    "grid_search = GridSearchCV(SVC(), param_grid, cv=5)\n",
    "grid_search.fit(x_train, y_train)\n",
    "print(\"Best Parameters:\", grid_search.best_params_)\n",
    "best_model = grid_search.best_estimator_"
   ]
  },
  {
   "cell_type": "code",
   "execution_count": null,
   "metadata": {},
   "outputs": [],
   "source": [
    "y_cal = clf.predict(x_val)\n",
    "\n",
    "print(\"SVM - Trial 10\")\n",
    "print(\"-----------------------\\n\")\n",
    "\n",
    "auc_roc = round(roc_auc_score(y_val, y_cal)*100, 2)\n",
    "accuracy = round(accuracy_score(y_val, y_cal)*100, 2)\n",
    "f1 = round(f1_score(y_val, y_cal)*100, 2)\n",
    "cm = confusion_matrix(y_val, y_cal)\n",
    "\n",
    "print(\"AUC-ROC Score: \", auc_roc, \"%\", sep=\"\")\n",
    "print(\"Accuracy Score: \", accuracy, \"%\", sep=\"\")\n",
    "print(\"F1 Score: \", f1, \"%\", sep=\"\")\n",
    "print(\"Confusion Matrix:\\n\", tabulate(cm, tablefmt=\"grid\"), sep=\"\")"
   ]
  },
  {
   "cell_type": "markdown",
   "metadata": {},
   "source": [
    "class_weight Parameter"
   ]
  },
  {
   "cell_type": "code",
   "execution_count": null,
   "metadata": {},
   "outputs": [],
   "source": [
    "param_grid = {\n",
    "    \"class_weight\": [\"balanced\", None] # default - None\n",
    "}\n",
    "\n",
    "grid_search = GridSearchCV(SVC(), param_grid, cv=5)\n",
    "grid_search.fit(x_train, y_train)\n",
    "print(\"Best Parameters:\", grid_search.best_params_)\n",
    "best_model = grid_search.best_estimator_"
   ]
  },
  {
   "cell_type": "code",
   "execution_count": null,
   "metadata": {},
   "outputs": [],
   "source": [
    "y_cal = clf.predict(x_val)\n",
    "\n",
    "print(\"SVM - Trial 11\")\n",
    "print(\"-----------------------\\n\")\n",
    "\n",
    "auc_roc = round(roc_auc_score(y_val, y_cal)*100, 2)\n",
    "accuracy = round(accuracy_score(y_val, y_cal)*100, 2)\n",
    "f1 = round(f1_score(y_val, y_cal)*100, 2)\n",
    "cm = confusion_matrix(y_val, y_cal)\n",
    "\n",
    "print(\"AUC-ROC Score: \", auc_roc, \"%\", sep=\"\")\n",
    "print(\"Accuracy Score: \", accuracy, \"%\", sep=\"\")\n",
    "print(\"F1 Score: \", f1, \"%\", sep=\"\")\n",
    "print(\"Confusion Matrix:\\n\", tabulate(cm, tablefmt=\"grid\"), sep=\"\")"
   ]
  },
  {
   "cell_type": "markdown",
   "metadata": {},
   "source": [
    "verbose Parameter"
   ]
  },
  {
   "cell_type": "code",
   "execution_count": null,
   "metadata": {},
   "outputs": [],
   "source": [
    "param_grid = {\n",
    "    \"verbose\": [0, 1] # default - False\n",
    "}\n",
    "\n",
    "grid_search = GridSearchCV(SVC(), param_grid, cv=5)\n",
    "grid_search.fit(x_train, y_train)\n",
    "print(\"Best Parameters:\", grid_search.best_params_)\n",
    "best_model = grid_search.best_estimator_"
   ]
  },
  {
   "cell_type": "code",
   "execution_count": null,
   "metadata": {},
   "outputs": [],
   "source": [
    "y_cal = clf.predict(x_val)\n",
    "\n",
    "print(\"SVM - Trial 12\")\n",
    "print(\"-----------------------\\n\")\n",
    "\n",
    "auc_roc = round(roc_auc_score(y_val, y_cal)*100, 2)\n",
    "accuracy = round(accuracy_score(y_val, y_cal)*100, 2)\n",
    "f1 = round(f1_score(y_val, y_cal)*100, 2)\n",
    "cm = confusion_matrix(y_val, y_cal)\n",
    "\n",
    "print(\"AUC-ROC Score: \", auc_roc, \"%\", sep=\"\")\n",
    "print(\"Accuracy Score: \", accuracy, \"%\", sep=\"\")\n",
    "print(\"F1 Score: \", f1, \"%\", sep=\"\")\n",
    "print(\"Confusion Matrix:\\n\", tabulate(cm, tablefmt=\"grid\"), sep=\"\")"
   ]
  },
  {
   "cell_type": "markdown",
   "metadata": {},
   "source": [
    "max_iter Parameter"
   ]
  },
  {
   "cell_type": "code",
   "execution_count": null,
   "metadata": {},
   "outputs": [],
   "source": [
    "param_grid = {\n",
    "    \"max_iter\": [-1, 1000] # default - -1\n",
    "}\n",
    "\n",
    "grid_search = GridSearchCV(SVC(), param_grid, cv=5)\n",
    "grid_search.fit(x_train, y_train)\n",
    "print(\"Best Parameters:\", grid_search.best_params_)\n",
    "best_model = grid_search.best_estimator_"
   ]
  },
  {
   "cell_type": "code",
   "execution_count": null,
   "metadata": {},
   "outputs": [],
   "source": [
    "y_cal = clf.predict(x_val)\n",
    "\n",
    "print(\"SVM - Trial 13\")\n",
    "print(\"-----------------------\\n\")\n",
    "\n",
    "auc_roc = round(roc_auc_score(y_val, y_cal)*100, 2)\n",
    "accuracy = round(accuracy_score(y_val, y_cal)*100, 2)\n",
    "f1 = round(f1_score(y_val, y_cal)*100, 2)\n",
    "cm = confusion_matrix(y_val, y_cal)\n",
    "\n",
    "print(\"AUC-ROC Score: \", auc_roc, \"%\", sep=\"\")\n",
    "print(\"Accuracy Score: \", accuracy, \"%\", sep=\"\")\n",
    "print(\"F1 Score: \", f1, \"%\", sep=\"\")\n",
    "print(\"Confusion Matrix:\\n\", tabulate(cm, tablefmt=\"grid\"), sep=\"\")"
   ]
  },
  {
   "cell_type": "markdown",
   "metadata": {},
   "source": [
    "decision_function_shape Parameter"
   ]
  },
  {
   "cell_type": "code",
   "execution_count": null,
   "metadata": {},
   "outputs": [],
   "source": [
    "param_grid = {\n",
    "    \"decision_function_shape\": [\"ovr\", \"ovo\"] # default - \"ovr\"\n",
    "}\n",
    "\n",
    "grid_search = GridSearchCV(SVC(), param_grid, cv=5)\n",
    "grid_search.fit(x_train, y_train)\n",
    "print(\"Best Parameters:\", grid_search.best_params_)\n",
    "best_model = grid_search.best_estimator_"
   ]
  },
  {
   "cell_type": "code",
   "execution_count": null,
   "metadata": {},
   "outputs": [],
   "source": [
    "y_cal = clf.predict(x_val)\n",
    "\n",
    "print(\"SVM - Trial 14\")\n",
    "print(\"-----------------------\\n\")\n",
    "\n",
    "auc_roc = round(roc_auc_score(y_val, y_cal)*100, 2)\n",
    "accuracy = round(accuracy_score(y_val, y_cal)*100, 2)\n",
    "f1 = round(f1_score(y_val, y_cal)*100, 2)\n",
    "cm = confusion_matrix(y_val, y_cal)\n",
    "\n",
    "print(\"AUC-ROC Score: \", auc_roc, \"%\", sep=\"\")\n",
    "print(\"Accuracy Score: \", accuracy, \"%\", sep=\"\")\n",
    "print(\"F1 Score: \", f1, \"%\", sep=\"\")\n",
    "print(\"Confusion Matrix:\\n\", tabulate(cm, tablefmt=\"grid\"), sep=\"\")"
   ]
  },
  {
   "cell_type": "markdown",
   "metadata": {},
   "source": [
    "break_ties Parameter"
   ]
  },
  {
   "cell_type": "code",
   "execution_count": null,
   "metadata": {},
   "outputs": [],
   "source": [
    "param_grid = {\n",
    "    \"break_ties\": [True, False] # default - False\n",
    "}\n",
    "\n",
    "grid_search = GridSearchCV(SVC(), param_grid, cv=5)\n",
    "grid_search.fit(x_train, y_train)\n",
    "print(\"Best Parameters:\", grid_search.best_params_)\n",
    "best_model = grid_search.best_estimator_"
   ]
  },
  {
   "cell_type": "code",
   "execution_count": null,
   "metadata": {},
   "outputs": [],
   "source": [
    "y_cal = clf.predict(x_val)\n",
    "\n",
    "print(\"SVM - Trial 15\")\n",
    "print(\"-----------------------\\n\")\n",
    "\n",
    "auc_roc = round(roc_auc_score(y_val, y_cal)*100, 2)\n",
    "accuracy = round(accuracy_score(y_val, y_cal)*100, 2)\n",
    "f1 = round(f1_score(y_val, y_cal)*100, 2)\n",
    "cm = confusion_matrix(y_val, y_cal)\n",
    "\n",
    "print(\"AUC-ROC Score: \", auc_roc, \"%\", sep=\"\")\n",
    "print(\"Accuracy Score: \", accuracy, \"%\", sep=\"\")\n",
    "print(\"F1 Score: \", f1, \"%\", sep=\"\")\n",
    "print(\"Confusion Matrix:\\n\", tabulate(cm, tablefmt=\"grid\"), sep=\"\")"
   ]
  },
  {
   "cell_type": "markdown",
   "metadata": {},
   "source": [
    "random_state Parameter"
   ]
  },
  {
   "cell_type": "code",
   "execution_count": null,
   "metadata": {},
   "outputs": [],
   "source": [
    "param_grid = {\n",
    "    \"random_state\": [42, 100, None] # default - None\n",
    "}\n",
    "\n",
    "grid_search = GridSearchCV(SVC(), param_grid, cv=5)\n",
    "grid_search.fit(x_train, y_train)\n",
    "print(\"Best Parameters:\", grid_search.best_params_)\n",
    "best_model = grid_search.best_estimator_"
   ]
  },
  {
   "cell_type": "code",
   "execution_count": null,
   "metadata": {},
   "outputs": [],
   "source": [
    "y_cal = clf.predict(x_val)\n",
    "\n",
    "print(\"SVM - Trial 16\")\n",
    "print(\"-----------------------\\n\")\n",
    "\n",
    "auc_roc = round(roc_auc_score(y_val, y_cal)*100, 2)\n",
    "accuracy = round(accuracy_score(y_val, y_cal)*100, 2)\n",
    "f1 = round(f1_score(y_val, y_cal)*100, 2)\n",
    "cm = confusion_matrix(y_val, y_cal)\n",
    "\n",
    "print(\"AUC-ROC Score: \", auc_roc, \"%\", sep=\"\")\n",
    "print(\"Accuracy Score: \", accuracy, \"%\", sep=\"\")\n",
    "print(\"F1 Score: \", f1, \"%\", sep=\"\")\n",
    "print(\"Confusion Matrix:\\n\", tabulate(cm, tablefmt=\"grid\"), sep=\"\")"
   ]
  },
  {
   "cell_type": "markdown",
   "metadata": {},
   "source": [
    "Fine Tuned Algorithm"
   ]
  },
  {
   "cell_type": "code",
   "execution_count": null,
   "metadata": {},
   "outputs": [],
   "source": [
    "clf = SVC()\n",
    "clf.fit(x_train, y_train)"
   ]
  },
  {
   "cell_type": "code",
   "execution_count": null,
   "metadata": {},
   "outputs": [],
   "source": [
    "y_cal = clf.predict(x_val)\n",
    "\n",
    "print(\"SVM - Validation Dataset Final\")\n",
    "print(\"-----------------------\\n\")\n",
    "\n",
    "auc_roc = round(roc_auc_score(y_val, y_cal)*100, 2)\n",
    "accuracy = round(accuracy_score(y_val, y_cal)*100, 2)\n",
    "f1 = round(f1_score(y_val, y_cal)*100, 2)\n",
    "cm = confusion_matrix(y_val, y_cal)\n",
    "\n",
    "print(\"AUC-ROC Score: \", auc_roc, \"%\", sep=\"\")\n",
    "print(\"Accuracy Score: \", accuracy, \"%\", sep=\"\")\n",
    "print(\"F1 Score: \", f1, \"%\", sep=\"\")\n",
    "print(\"Confusion Matrix:\\n\", tabulate(cm, tablefmt=\"grid\"), sep=\"\")"
   ]
  },
  {
   "cell_type": "code",
   "execution_count": null,
   "metadata": {},
   "outputs": [],
   "source": [
    "y_res = clf.predict(x_test)\n",
    "\n",
    "print(\"SVM - Test Dataset Final\")\n",
    "print(\"-----------------------\\n\")\n",
    "\n",
    "auc_roc = round(roc_auc_score(y_test, y_res)*100, 2)\n",
    "accuracy = round(accuracy_score(y_test, y_res)*100, 2)\n",
    "f1 = round(f1_score(y_test, y_res)*100, 2)\n",
    "cm = confusion_matrix(y_test, y_res)\n",
    "\n",
    "print(\"AUC-ROC Score: \", auc_roc, \"%\", sep=\"\")\n",
    "print(\"Accuracy Score: \", accuracy, \"%\", sep=\"\")\n",
    "print(\"F1 Score: \", f1, \"%\", sep=\"\")\n",
    "print(\"Confusion Matrix:\\n\", tabulate(cm, tablefmt=\"grid\"), sep=\"\")"
   ]
  }
 ],
 "metadata": {
  "kernelspec": {
   "display_name": "Python 3",
   "language": "python",
   "name": "python3"
  },
  "language_info": {
   "codemirror_mode": {
    "name": "ipython",
    "version": 3
   },
   "file_extension": ".py",
   "mimetype": "text/x-python",
   "name": "python",
   "nbconvert_exporter": "python",
   "pygments_lexer": "ipython3",
   "version": "3.11.9"
  }
 },
 "nbformat": 4,
 "nbformat_minor": 2
}
