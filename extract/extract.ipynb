{
 "cells": [
  {
   "cell_type": "code",
   "execution_count": 1,
   "metadata": {},
   "outputs": [
    {
     "name": "stderr",
     "output_type": "stream",
     "text": [
      "WARNING: Wireshark is installed, but cannot read manuf !\n"
     ]
    }
   ],
   "source": [
    "from scapy.all import rdpcap"
   ]
  },
  {
   "cell_type": "code",
   "execution_count": 6,
   "metadata": {},
   "outputs": [],
   "source": [
    "filename = \"capture_malariaDoS.pcap\""
   ]
  },
  {
   "cell_type": "markdown",
   "metadata": {},
   "source": [
    "keys = [\n",
    "  'mqtt.hdrflags', \n",
    "  'mqtt.msg', \n",
    "  'mqtt.msgid', \n",
    "  'mqtt.len', \n",
    "  'tcp.flags', \n",
    "  'mqtt.kalive', \n",
    "  'mqtt.conflag.cleansess', \n",
    "  'mqtt.willmsg_len', \n",
    "  'mqtt.qos', \n",
    "  'tcp.time_delta', \n",
    "  'mqtt.dupflag', \n",
    "  'mqtt.willtopic', \n",
    "  'mqtt.conflags', \n",
    "  'mqtt.protoname', \n",
    "  'tcp.len', \n",
    "  'mqtt.msgtype', \n",
    "  'mqtt.proto_len', \n",
    "  'mqtt.ver'\n",
    "]"
   ]
  },
  {
   "cell_type": "code",
   "execution_count": 3,
   "metadata": {},
   "outputs": [],
   "source": [
    "keys_of_interest = {\n",
    "    \"TCP\": [\"flags\", \"time_delta\", \"len\"],\n",
    "    \"MQTT\": [\n",
    "        \"hdrflags\", \"msg\", \"msgid\", \"len\", \"kalive\", \"conflag.cleansess\",\n",
    "        \"willmsg_len\", \"qos\", \"dupflag\", \"willtopic\", \"conflags\", \"protoname\",\n",
    "        \"msgtype\", \"proto_len\", \"ver\"\n",
    "    ]\n",
    "}"
   ]
  },
  {
   "cell_type": "code",
   "execution_count": 4,
   "metadata": {},
   "outputs": [],
   "source": [
    "def extract_details(packet):\n",
    "  details = {}\n",
    "\n",
    "  # Check for TCP layer\n",
    "  if \"TCP\" in packet:\n",
    "    tcp_layer = packet[\"TCP\"]\n",
    "    # Handle potential missing attributes using try-except\n",
    "    details.update({\n",
    "        key: getattr(tcp_layer, key) if hasattr(tcp_layer, key) else None\n",
    "        for key in keys_of_interest[\"TCP\"]\n",
    "    })\n",
    "\n",
    "  # Check for presence of payload\n",
    "  if \"payload\" in packet:\n",
    "    payload_layer = packet[\"payload\"]\n",
    "\n",
    "    # Check if payload layer name matches an MQTT layer (optional)\n",
    "    if hasattr(payload_layer, \"name\") and payload_layer.name in keys_of_interest:\n",
    "      details.update({key: getattr(payload_layer, key) for key in keys_of_interest[payload_layer.name]})\n",
    "    else:\n",
    "      # Handle unknown payload layers (optional)\n",
    "      # You might need additional libraries or logic here if your MQTT data\n",
    "      # isn't in a standard format within the payload.\n",
    "      pass\n",
    "\n",
    "  return details\n"
   ]
  },
  {
   "cell_type": "code",
   "execution_count": 7,
   "metadata": {},
   "outputs": [
    {
     "data": {
      "text/plain": [
       "<capture_malariaDoS.pcap: TCP:130223 UDP:0 ICMP:0 Other:0>"
      ]
     },
     "execution_count": 7,
     "metadata": {},
     "output_type": "execute_result"
    }
   ],
   "source": [
    "packets = rdpcap(filename)\n",
    "packets"
   ]
  },
  {
   "cell_type": "code",
   "execution_count": 8,
   "metadata": {},
   "outputs": [
    {
     "data": {
      "text/plain": [
       "[{'flags': <Flag 2 (S)>, 'time_delta': None, 'len': None},\n",
       " {'flags': <Flag 2 (S)>, 'time_delta': None, 'len': None},\n",
       " {'flags': <Flag 2 (S)>, 'time_delta': None, 'len': None},\n",
       " {'flags': <Flag 2 (S)>, 'time_delta': None, 'len': None},\n",
       " {'flags': <Flag 2 (S)>, 'time_delta': None, 'len': None}]"
      ]
     },
     "execution_count": 8,
     "metadata": {},
     "output_type": "execute_result"
    }
   ],
   "source": [
    "filtered_packets = []\n",
    "for packet in packets:\n",
    "  details = extract_details(packet)\n",
    "  if details:  # Only keep packets with extracted details\n",
    "    filtered_packets.append(details)\n",
    "filtered_packets[:5]"
   ]
  },
  {
   "cell_type": "code",
   "execution_count": 15,
   "metadata": {},
   "outputs": [
    {
     "data": {
      "text/plain": [
       "<Ether  dst=8c:85:90:b3:e6:d9 src=bc:5f:f4:65:87:30 type=IPv4 |<IP  version=4 ihl=5 tos=0x0 len=52 id=16522 flags=DF frag=0 ttl=128 proto=tcp chksum=0x3634 src=192.168.1.91 dst=192.168.1.90 |<TCP  sport=1883 dport=54547 seq=3522975880 ack=3010106254 dataofs=8 reserved=0 flags=SA window=65535 chksum=0x9d0d urgptr=0 options=[('MSS', 1460), ('NOP', None), ('WScale', 8), ('NOP', None), ('NOP', None), ('SAckOK', b'')] |>>>"
      ]
     },
     "execution_count": 15,
     "metadata": {},
     "output_type": "execute_result"
    }
   ],
   "source": [
    "packet = packets[23]\n",
    "packet"
   ]
  },
  {
   "cell_type": "code",
   "execution_count": 12,
   "metadata": {},
   "outputs": [
    {
     "data": {
      "text/plain": [
       "<Flag 2 (S)>"
      ]
     },
     "execution_count": 12,
     "metadata": {},
     "output_type": "execute_result"
    }
   ],
   "source": [
    "tcp_flags = packet[\"TCP\"].flags\n",
    "tcp_flags"
   ]
  },
  {
   "cell_type": "code",
   "execution_count": 11,
   "metadata": {},
   "outputs": [
    {
     "data": {
      "text/plain": [
       "Decimal('1591799819.003272')"
      ]
     },
     "execution_count": 11,
     "metadata": {},
     "output_type": "execute_result"
    }
   ],
   "source": [
    "time_stamp = packet.time\n",
    "time_stamp"
   ]
  },
  {
   "cell_type": "code",
   "execution_count": 16,
   "metadata": {},
   "outputs": [
    {
     "data": {
      "text/plain": [
       "52"
      ]
     },
     "execution_count": 16,
     "metadata": {},
     "output_type": "execute_result"
    }
   ],
   "source": [
    "tcp_flags = packet[\"IP\"].len\n",
    "tcp_flags"
   ]
  }
 ],
 "metadata": {
  "kernelspec": {
   "display_name": "Python 3",
   "language": "python",
   "name": "python3"
  },
  "language_info": {
   "codemirror_mode": {
    "name": "ipython",
    "version": 3
   },
   "file_extension": ".py",
   "mimetype": "text/x-python",
   "name": "python",
   "nbconvert_exporter": "python",
   "pygments_lexer": "ipython3",
   "version": "3.11.9"
  }
 },
 "nbformat": 4,
 "nbformat_minor": 2
}
